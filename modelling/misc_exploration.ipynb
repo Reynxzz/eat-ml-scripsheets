{
 "cells": [
  {
   "cell_type": "code",
   "execution_count": 4,
   "id": "3d236dc7-71a2-40b7-8440-40b46780b850",
   "metadata": {
    "tags": []
   },
   "outputs": [
    {
     "name": "stdout",
     "output_type": "stream",
     "text": [
      "Requirement already satisfied: undetected-playwright in /Users/muhamadluthfireynaldi/anaconda3/lib/python3.11/site-packages (0.2.0)\n",
      "Requirement already satisfied: playwright in /Users/muhamadluthfireynaldi/anaconda3/lib/python3.11/site-packages (from undetected-playwright) (1.43.0)\n",
      "Requirement already satisfied: greenlet==3.0.3 in /Users/muhamadluthfireynaldi/anaconda3/lib/python3.11/site-packages (from playwright->undetected-playwright) (3.0.3)\n",
      "Requirement already satisfied: pyee==11.1.0 in /Users/muhamadluthfireynaldi/anaconda3/lib/python3.11/site-packages (from playwright->undetected-playwright) (11.1.0)\n",
      "Requirement already satisfied: typing-extensions in /Users/muhamadluthfireynaldi/anaconda3/lib/python3.11/site-packages (from pyee==11.1.0->playwright->undetected-playwright) (4.10.0)\n"
     ]
    }
   ],
   "source": [
    "!pip install -U undetected-playwright"
   ]
  },
  {
   "cell_type": "code",
   "execution_count": 3,
   "id": "de53f2d3-6eff-4616-b3a1-8cd6e05917de",
   "metadata": {
    "tags": []
   },
   "outputs": [
    {
     "name": "stdout",
     "output_type": "stream",
     "text": [
      "Collecting asyncio\n",
      "  Downloading asyncio-3.4.3-py3-none-any.whl.metadata (1.7 kB)\n",
      "Downloading asyncio-3.4.3-py3-none-any.whl (101 kB)\n",
      "\u001b[2K   \u001b[90m━━━━━━━━━━━━━━━━━━━━━━━━━━━━━━━━━━━━━━━━\u001b[0m \u001b[32m101.8/101.8 kB\u001b[0m \u001b[31m1.5 MB/s\u001b[0m eta \u001b[36m0:00:00\u001b[0m \u001b[36m0:00:01\u001b[0m\n",
      "\u001b[?25hInstalling collected packages: asyncio\n",
      "Successfully installed asyncio-3.4.3\n"
     ]
    }
   ],
   "source": [
    "!pip install asyncio"
   ]
  },
  {
   "cell_type": "code",
   "execution_count": 3,
   "id": "16b12fe8-0da4-4141-b3a6-140646a4f7b7",
   "metadata": {
    "collapsed": true,
    "jupyter": {
     "outputs_hidden": true
    },
    "tags": []
   },
   "outputs": [
    {
     "name": "stdout",
     "output_type": "stream",
     "text": [
      "Collecting selenium-stealth\n",
      "  Downloading selenium_stealth-1.0.6-py3-none-any.whl.metadata (6.4 kB)\n",
      "Requirement already satisfied: selenium in /Users/muhamadluthfireynaldi/anaconda3/lib/python3.11/site-packages (from selenium-stealth) (4.18.1)\n",
      "Requirement already satisfied: urllib3<3,>=1.26 in /Users/muhamadluthfireynaldi/anaconda3/lib/python3.11/site-packages (from urllib3[socks]<3,>=1.26->selenium->selenium-stealth) (2.2.1)\n",
      "Requirement already satisfied: trio~=0.17 in /Users/muhamadluthfireynaldi/anaconda3/lib/python3.11/site-packages (from selenium->selenium-stealth) (0.25.0)\n",
      "Requirement already satisfied: trio-websocket~=0.9 in /Users/muhamadluthfireynaldi/anaconda3/lib/python3.11/site-packages (from selenium->selenium-stealth) (0.11.1)\n",
      "Requirement already satisfied: certifi>=2021.10.8 in /Users/muhamadluthfireynaldi/anaconda3/lib/python3.11/site-packages (from selenium->selenium-stealth) (2024.2.2)\n",
      "Requirement already satisfied: typing_extensions>=4.9.0 in /Users/muhamadluthfireynaldi/anaconda3/lib/python3.11/site-packages (from selenium->selenium-stealth) (4.10.0)\n",
      "Requirement already satisfied: attrs>=23.2.0 in /Users/muhamadluthfireynaldi/anaconda3/lib/python3.11/site-packages (from trio~=0.17->selenium->selenium-stealth) (23.2.0)\n",
      "Requirement already satisfied: sortedcontainers in /Users/muhamadluthfireynaldi/anaconda3/lib/python3.11/site-packages (from trio~=0.17->selenium->selenium-stealth) (2.4.0)\n",
      "Requirement already satisfied: idna in /Users/muhamadluthfireynaldi/anaconda3/lib/python3.11/site-packages (from trio~=0.17->selenium->selenium-stealth) (3.6)\n",
      "Requirement already satisfied: outcome in /Users/muhamadluthfireynaldi/anaconda3/lib/python3.11/site-packages (from trio~=0.17->selenium->selenium-stealth) (1.3.0.post0)\n",
      "Requirement already satisfied: sniffio>=1.3.0 in /Users/muhamadluthfireynaldi/anaconda3/lib/python3.11/site-packages (from trio~=0.17->selenium->selenium-stealth) (1.3.1)\n",
      "Requirement already satisfied: wsproto>=0.14 in /Users/muhamadluthfireynaldi/anaconda3/lib/python3.11/site-packages (from trio-websocket~=0.9->selenium->selenium-stealth) (1.2.0)\n",
      "Requirement already satisfied: pysocks!=1.5.7,<2.0,>=1.5.6 in /Users/muhamadluthfireynaldi/anaconda3/lib/python3.11/site-packages (from urllib3[socks]<3,>=1.26->selenium->selenium-stealth) (1.7.1)\n",
      "Requirement already satisfied: h11<1,>=0.9.0 in /Users/muhamadluthfireynaldi/anaconda3/lib/python3.11/site-packages (from wsproto>=0.14->trio-websocket~=0.9->selenium->selenium-stealth) (0.14.0)\n",
      "Downloading selenium_stealth-1.0.6-py3-none-any.whl (32 kB)\n",
      "Installing collected packages: selenium-stealth\n",
      "Successfully installed selenium-stealth-1.0.6\n"
     ]
    }
   ],
   "source": [
    "!pip install selenium-stealth"
   ]
  },
  {
   "cell_type": "code",
   "execution_count": 2,
   "id": "91616f0f-3b4a-42df-b69c-dac6e2a75160",
   "metadata": {
    "tags": []
   },
   "outputs": [
    {
     "name": "stderr",
     "output_type": "stream",
     "text": [
      "/var/folders/1k/rvddzkqj4yn9vwymqmntyzv00000gn/T/ipykernel_84501/4095353432.py:21: RuntimeWarning: coroutine 'bytedance' was never awaited\n",
      "  bytedance()\n",
      "RuntimeWarning: Enable tracemalloc to get the object allocation traceback\n"
     ]
    }
   ],
   "source": [
    "from playwright.sync_api import sync_playwright\n",
    "\n",
    "from undetected_playwright import stealth_sync\n",
    "\n",
    "headless = True\n",
    "\n",
    "def run(context):\n",
    "    page = context.new_page()\n",
    "    page.goto(\"https://bot.sannysoft.com/\")\n",
    "\n",
    "    _suffix = \"-headless\" if headless else \"-headful\"\n",
    "    page.screenshot(path=f\"result/sannysoft{_suffix}.png\", full_page=True)\n",
    "\n",
    "async def bytedance():\n",
    "    async with sync_playwright() as p:\n",
    "        browser = await p.chromium.launch()\n",
    "        page = await browser.new_page()\n",
    "        await page.goto(\"https://shopee.co.id\")\n",
    "\n",
    "if __name__ == \"__main__\":\n",
    "    bytedance()"
   ]
  },
  {
   "cell_type": "code",
   "execution_count": 7,
   "id": "b691df77-5858-4cf8-9295-bdc845d9c87b",
   "metadata": {
    "tags": []
   },
   "outputs": [],
   "source": [
    "!playwright install-deps\n"
   ]
  },
  {
   "cell_type": "code",
   "execution_count": 8,
   "id": "e8191036-b2fb-40eb-8756-22913ae53020",
   "metadata": {
    "tags": []
   },
   "outputs": [],
   "source": [
    "from selenium import webdriver\n",
    "from selenium_stealth import stealth\n",
    "import time\n",
    "\n",
    "options = webdriver.ChromeOptions()\n",
    "options.add_argument(\"start-maximized\")\n",
    "\n",
    "# options.add_argument(\"--headless\")\n",
    "\n",
    "options.add_experimental_option(\"excludeSwitches\", [\"enable-automation\"])\n",
    "options.add_experimental_option('useAutomationExtension', False)\n",
    "driver = webdriver.Chrome(options=options)\n",
    "\n",
    "stealth(driver,\n",
    "        languages=[\"en-US\", \"en\"],\n",
    "        vendor=\"Google Inc.\",\n",
    "        platform=\"Win32\",\n",
    "        webgl_vendor=\"Intel Inc.\",\n",
    "        renderer=\"Intel Iris OpenGL Engine\",\n",
    "        fix_hairline=True,\n",
    "        )\n",
    "\n",
    "url = \"https://www.shopee.co.id/\"\n",
    "driver.get(url)\n",
    "time.sleep(20)\n",
    "driver.quit()"
   ]
  },
  {
   "cell_type": "code",
   "execution_count": 10,
   "id": "d489b89c-ed7b-4793-b51c-cce6471c7641",
   "metadata": {
    "tags": []
   },
   "outputs": [
    {
     "name": "stdout",
     "output_type": "stream",
     "text": [
      "Collecting playwright_stealth\n",
      "  Downloading playwright_stealth-1.0.6-py3-none-any.whl.metadata (2.2 kB)\n",
      "Requirement already satisfied: playwright in /Users/muhamadluthfireynaldi/anaconda3/lib/python3.11/site-packages (from playwright_stealth) (1.43.0)\n",
      "Requirement already satisfied: greenlet==3.0.3 in /Users/muhamadluthfireynaldi/anaconda3/lib/python3.11/site-packages (from playwright->playwright_stealth) (3.0.3)\n",
      "Requirement already satisfied: pyee==11.1.0 in /Users/muhamadluthfireynaldi/anaconda3/lib/python3.11/site-packages (from playwright->playwright_stealth) (11.1.0)\n",
      "Requirement already satisfied: typing-extensions in /Users/muhamadluthfireynaldi/anaconda3/lib/python3.11/site-packages (from pyee==11.1.0->playwright->playwright_stealth) (4.10.0)\n",
      "Downloading playwright_stealth-1.0.6-py3-none-any.whl (28 kB)\n",
      "Installing collected packages: playwright_stealth\n",
      "Successfully installed playwright_stealth-1.0.6\n"
     ]
    }
   ],
   "source": [
    "!pip install playwright_stealth"
   ]
  },
  {
   "cell_type": "code",
   "execution_count": 12,
   "id": "0d4ba808-f02b-4976-8277-720857952947",
   "metadata": {
    "tags": []
   },
   "outputs": [],
   "source": [
    "from playwright.async_api import async_playwright\n"
   ]
  },
  {
   "cell_type": "code",
   "execution_count": 13,
   "id": "8f588048-7d2a-4fd2-a00c-675eeb6106cb",
   "metadata": {
    "tags": []
   },
   "outputs": [
    {
     "ename": "AttributeError",
     "evalue": "'Browser' object has no attribute 'newPage'",
     "output_type": "error",
     "traceback": [
      "\u001b[0;31m---------------------------------------------------------------------------\u001b[0m",
      "\u001b[0;31mAttributeError\u001b[0m                            Traceback (most recent call last)",
      "Cell \u001b[0;32mIn[13], line 5\u001b[0m\n\u001b[1;32m      3\u001b[0m \u001b[38;5;28;01masync\u001b[39;00m \u001b[38;5;28;01mwith\u001b[39;00m async_playwright() \u001b[38;5;28;01mas\u001b[39;00m pw:\n\u001b[1;32m      4\u001b[0m     browser \u001b[38;5;241m=\u001b[39m \u001b[38;5;28;01mawait\u001b[39;00m pw\u001b[38;5;241m.\u001b[39mchromium\u001b[38;5;241m.\u001b[39mlaunch(headless\u001b[38;5;241m=\u001b[39m\u001b[38;5;28;01mTrue\u001b[39;00m)\n\u001b[0;32m----> 5\u001b[0m     page \u001b[38;5;241m=\u001b[39m \u001b[38;5;28;01mawait\u001b[39;00m browser\u001b[38;5;241m.\u001b[39mnewPage()\n\u001b[1;32m      6\u001b[0m     \u001b[38;5;28;01mawait\u001b[39;00m stealth_async(page)\n\u001b[1;32m      7\u001b[0m     \u001b[38;5;28;01mawait\u001b[39;00m page\u001b[38;5;241m.\u001b[39mgoto(\u001b[38;5;124m'\u001b[39m\u001b[38;5;124mhttps://bot.sannysoft.com/\u001b[39m\u001b[38;5;124m'\u001b[39m)\n",
      "\u001b[0;31mAttributeError\u001b[0m: 'Browser' object has no attribute 'newPage'"
     ]
    }
   ],
   "source": [
    "from playwright_stealth import stealth_async\n",
    "\n",
    "async with async_playwright() as pw:\n",
    "    browser = await pw.chromium.launch(headless=True)\n",
    "    page = await browser.newPage()\n",
    "    await stealth_async(page)\n",
    "    await page.goto('https://bot.sannysoft.com/')\n",
    "    await page.screenshot(path='chrome_headless_stealth.png', fullPage=True)"
   ]
  },
  {
   "cell_type": "code",
   "execution_count": null,
   "id": "d2ae762a-e832-41d7-8a35-d30f16969cf5",
   "metadata": {},
   "outputs": [],
   "source": []
  }
 ],
 "metadata": {
  "kernelspec": {
   "display_name": "Python 3 (ipykernel)",
   "language": "python",
   "name": "python3"
  },
  "language_info": {
   "codemirror_mode": {
    "name": "ipython",
    "version": 3
   },
   "file_extension": ".py",
   "mimetype": "text/x-python",
   "name": "python",
   "nbconvert_exporter": "python",
   "pygments_lexer": "ipython3",
   "version": "3.11.5"
  }
 },
 "nbformat": 4,
 "nbformat_minor": 5
}
