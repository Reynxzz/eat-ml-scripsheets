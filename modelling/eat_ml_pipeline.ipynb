{
  "nbformat": 4,
  "nbformat_minor": 0,
  "metadata": {
    "colab": {
      "provenance": []
    },
    "kernelspec": {
      "name": "python3",
      "display_name": "Python 3"
    },
    "language_info": {
      "name": "python"
    }
  },
  "cells": [
    {
      "cell_type": "code",
      "source": [
        "!pip install Sastrawi"
      ],
      "metadata": {
        "colab": {
          "base_uri": "https://localhost:8080/"
        },
        "id": "wMDqrdekD7Ij",
        "outputId": "ea44f6c3-862b-4c02-a66b-cde9b3741f38"
      },
      "execution_count": 2,
      "outputs": [
        {
          "output_type": "stream",
          "name": "stdout",
          "text": [
            "Collecting Sastrawi\n",
            "  Downloading Sastrawi-1.0.1-py2.py3-none-any.whl (209 kB)\n",
            "\u001b[2K     \u001b[90m━━━━━━━━━━━━━━━━━━━━━━━━━━━━━━━━━━━━━━━━\u001b[0m \u001b[32m209.7/209.7 kB\u001b[0m \u001b[31m1.7 MB/s\u001b[0m eta \u001b[36m0:00:00\u001b[0m\n",
            "\u001b[?25hInstalling collected packages: Sastrawi\n",
            "Successfully installed Sastrawi-1.0.1\n"
          ]
        }
      ]
    },
    {
      "cell_type": "code",
      "source": [
        "import re\n",
        "from nltk.tokenize import word_tokenize\n",
        "from Sastrawi.Stemmer.StemmerFactory import StemmerFactory\n",
        "from sklearn.pipeline import Pipeline\n",
        "from sklearn.feature_extraction.text import TfidfVectorizer\n",
        "from sklearn.ensemble import RandomForestClassifier\n",
        "from sklearn.model_selection import train_test_split\n",
        "from sklearn.metrics import classification_report\n",
        "from sklearn.feature_extraction.text import ENGLISH_STOP_WORDS\n",
        "from nltk.corpus import stopwords\n",
        "from sklearn.preprocessing import FunctionTransformer\n",
        "import pandas as pd\n",
        "import requests"
      ],
      "metadata": {
        "id": "7Qx9Sbb2C4D1"
      },
      "execution_count": 9,
      "outputs": []
    },
    {
      "cell_type": "markdown",
      "source": [
        "# ML Pipeline"
      ],
      "metadata": {
        "id": "xojN1k3HFZ0s"
      }
    },
    {
      "cell_type": "markdown",
      "source": [
        "## Data loader"
      ],
      "metadata": {
        "id": "mSW0VLZoF6LZ"
      }
    },
    {
      "cell_type": "code",
      "source": [
        "DATA_PATH = '/content/df_labeled_cleaned_final.csv'\n",
        "GET_DATABASE_URL = \"https://api.fadilfauzan.com/api/scraper\"\n",
        "\n",
        "def load_data_from_csv(path):\n",
        "  df = pd.read_csv(path)\n",
        "\n",
        "  return df\n",
        "\n",
        "def load_data_from_db(url, key, idx_range):\n",
        "    full_df = pd.DataFrame()\n",
        "    for idx in range(0, idx_range):\n",
        "        json_data = {\n",
        "            \"key\": f'{key}_{idx}'\n",
        "        }\n",
        "        response = requests.get(url, json=json_data)\n",
        "\n",
        "        if response.status_code == 200:\n",
        "            data = response.json()\n",
        "            df = pd.DataFrame(data)\n",
        "            full_df = full_df.append(df, ignore_index=True)\n",
        "        else:\n",
        "            print(f\"Failed to retrieve data for index {idx}\")\n",
        "\n",
        "    return full_df"
      ],
      "metadata": {
        "id": "RthlwnJiF52F"
      },
      "execution_count": 10,
      "outputs": []
    },
    {
      "cell_type": "markdown",
      "source": [
        "## Pre-processor"
      ],
      "metadata": {
        "id": "GzEjkwmJFulF"
      }
    },
    {
      "cell_type": "code",
      "execution_count": 28,
      "metadata": {
        "id": "EbcEILrICVHb"
      },
      "outputs": [],
      "source": [
        "stop_words = set(stopwords.words('indonesian'))\n",
        "stemmer = StemmerFactory().create_stemmer()\n",
        "non_alpha_regex = re.compile(r'[^a-zA-Z\\s]')\n",
        "pattern = {'gram', 'ml', 'kg', 'gr', 'pcs', 'ltr', 'liter', 'oz', 'lb', 'cc', 'pack', 'box', 'bottle', 'jar', 'can', 'piece', 'slice'}\n",
        "\n",
        "def preprocess_text(text):\n",
        "    tokens = word_tokenize(text)\n",
        "    tokens = [token.lower() for token in tokens if not non_alpha_regex.search(token)]\n",
        "    tokens = [stemmer.stem(token) for token in tokens if token not in stop_words and token not in pattern and not token.isdigit()]\n",
        "    return ' '.join(tokens)\n",
        "\n",
        "def preprocess_text_series(series):\n",
        "    return series.apply(preprocess_text)"
      ]
    },
    {
      "cell_type": "code",
      "source": [
        "TEXT = \"title\"\n",
        "LABEL = \"label\""
      ],
      "metadata": {
        "id": "90tvTflqJqea"
      },
      "execution_count": 29,
      "outputs": []
    },
    {
      "cell_type": "code",
      "source": [
        "df = load_data_from_csv(DATA_PATH)"
      ],
      "metadata": {
        "id": "jaMqZMEREIV5"
      },
      "execution_count": 12,
      "outputs": []
    },
    {
      "cell_type": "code",
      "source": [
        "df"
      ],
      "metadata": {
        "colab": {
          "base_uri": "https://localhost:8080/",
          "height": 580
        },
        "id": "TiH4RSJVJ72X",
        "outputId": "bdc96af2-f5ec-475e-c1c1-eeb8597fc1ad"
      },
      "execution_count": 13,
      "outputs": [
        {
          "output_type": "execute_result",
          "data": {
            "text/plain": [
              "                                                  title   label  \\\n",
              "0                     ️ LACTOGEN PREMATUR BBLR 400 GRAM   Legal   \n",
              "1     ‼️CUCI GUDANG‼️ BATITA 1+ 900GRAM | TANPA DUS ...   Legal   \n",
              "2     ‼️CUCI GUDANG‼️ BATITA 1+ 900GRAM | VANILA | 1...   Legal   \n",
              "3     ‼️CUCI GUDANG‼️ DATITA 3+ 900GRAM | TANPA DUS ...   Legal   \n",
              "4     ‼️CUCI GUDANG‼️ DATITA 3+ 900GRAM | VANILA | 3...   Legal   \n",
              "...                                                 ...     ...   \n",
              "2754  Ternak Syams - Premium Susu Kambing Etawa Kolo...  Ilegal   \n",
              "2755                        Totole kaldu jamur 200 gram   Legal   \n",
              "2756  Trieste Italian Syrup 650mL - Coffee Syrup : C...  Ilegal   \n",
              "2757  Wilmond Mandarin Orange in Syrup 312gr - Buah ...   Legal   \n",
              "2758                      Yomas kornet ayam 1 kg isi 40   Legal   \n",
              "\n",
              "                                                   link  \\\n",
              "0     https://shopee.co.id/️-LACTOGEN-PREMATUR-BBLR-...   \n",
              "1     https://shopee.co.id/‼️CUCI-GUDANG‼️-BATITA-1-...   \n",
              "2     https://shopee.co.id/‼️CUCI-GUDANG‼️-BATITA-1-...   \n",
              "3     https://shopee.co.id/‼️CUCI-GUDANG‼️-DATITA-3-...   \n",
              "4     https://shopee.co.id/‼️CUCI-GUDANG‼️-DATITA-3-...   \n",
              "...                                                 ...   \n",
              "2754  https://shopee.co.id/Ternak-Syams-Premium-Susu...   \n",
              "2755  https://shopee.co.id/Totole-kaldu-jamur-200-gr...   \n",
              "2756  https://shopee.co.id/Trieste-Italian-Syrup-650...   \n",
              "2757  https://shopee.co.id/Wilmond-Mandarin-Orange-i...   \n",
              "2758  https://shopee.co.id/Yomas-kornet-ayam-1-kg-is...   \n",
              "\n",
              "                                      preprocessed_text  \n",
              "0                           lactogen prematur bblr gram  \n",
              "1     cuci gudang batita gram dus madu susu formula ...  \n",
              "2     cuci gudang batita gram vanila susu formula tu...  \n",
              "3     cuci gudang datita gram dus madu susu formula ...  \n",
              "4     cuci gudang datita gram vanila susu formula tu...  \n",
              "...                                                 ...  \n",
              "2754  ternak syams premium susu kambing etawa kolost...  \n",
              "2755                            totole kaldu jamur gram  \n",
              "2756  trieste italian syrup ml coffee syrup caramel ...  \n",
              "2757  wilmond mandarin orange in syrup gr buah jeruk...  \n",
              "2758                           yomas kornet ayam kg isi  \n",
              "\n",
              "[2759 rows x 4 columns]"
            ],
            "text/html": [
              "\n",
              "  <div id=\"df-a325bbfc-f3a1-4d0d-beee-7576d6cb71b9\" class=\"colab-df-container\">\n",
              "    <div>\n",
              "<style scoped>\n",
              "    .dataframe tbody tr th:only-of-type {\n",
              "        vertical-align: middle;\n",
              "    }\n",
              "\n",
              "    .dataframe tbody tr th {\n",
              "        vertical-align: top;\n",
              "    }\n",
              "\n",
              "    .dataframe thead th {\n",
              "        text-align: right;\n",
              "    }\n",
              "</style>\n",
              "<table border=\"1\" class=\"dataframe\">\n",
              "  <thead>\n",
              "    <tr style=\"text-align: right;\">\n",
              "      <th></th>\n",
              "      <th>title</th>\n",
              "      <th>label</th>\n",
              "      <th>link</th>\n",
              "      <th>preprocessed_text</th>\n",
              "    </tr>\n",
              "  </thead>\n",
              "  <tbody>\n",
              "    <tr>\n",
              "      <th>0</th>\n",
              "      <td>️ LACTOGEN PREMATUR BBLR 400 GRAM</td>\n",
              "      <td>Legal</td>\n",
              "      <td>https://shopee.co.id/️-LACTOGEN-PREMATUR-BBLR-...</td>\n",
              "      <td>lactogen prematur bblr gram</td>\n",
              "    </tr>\n",
              "    <tr>\n",
              "      <th>1</th>\n",
              "      <td>‼️CUCI GUDANG‼️ BATITA 1+ 900GRAM | TANPA DUS ...</td>\n",
              "      <td>Legal</td>\n",
              "      <td>https://shopee.co.id/‼️CUCI-GUDANG‼️-BATITA-1-...</td>\n",
              "      <td>cuci gudang batita gram dus madu susu formula ...</td>\n",
              "    </tr>\n",
              "    <tr>\n",
              "      <th>2</th>\n",
              "      <td>‼️CUCI GUDANG‼️ BATITA 1+ 900GRAM | VANILA | 1...</td>\n",
              "      <td>Legal</td>\n",
              "      <td>https://shopee.co.id/‼️CUCI-GUDANG‼️-BATITA-1-...</td>\n",
              "      <td>cuci gudang batita gram vanila susu formula tu...</td>\n",
              "    </tr>\n",
              "    <tr>\n",
              "      <th>3</th>\n",
              "      <td>‼️CUCI GUDANG‼️ DATITA 3+ 900GRAM | TANPA DUS ...</td>\n",
              "      <td>Legal</td>\n",
              "      <td>https://shopee.co.id/‼️CUCI-GUDANG‼️-DATITA-3-...</td>\n",
              "      <td>cuci gudang datita gram dus madu susu formula ...</td>\n",
              "    </tr>\n",
              "    <tr>\n",
              "      <th>4</th>\n",
              "      <td>‼️CUCI GUDANG‼️ DATITA 3+ 900GRAM | VANILA | 3...</td>\n",
              "      <td>Legal</td>\n",
              "      <td>https://shopee.co.id/‼️CUCI-GUDANG‼️-DATITA-3-...</td>\n",
              "      <td>cuci gudang datita gram vanila susu formula tu...</td>\n",
              "    </tr>\n",
              "    <tr>\n",
              "      <th>...</th>\n",
              "      <td>...</td>\n",
              "      <td>...</td>\n",
              "      <td>...</td>\n",
              "      <td>...</td>\n",
              "    </tr>\n",
              "    <tr>\n",
              "      <th>2754</th>\n",
              "      <td>Ternak Syams - Premium Susu Kambing Etawa Kolo...</td>\n",
              "      <td>Ilegal</td>\n",
              "      <td>https://shopee.co.id/Ternak-Syams-Premium-Susu...</td>\n",
              "      <td>ternak syams premium susu kambing etawa kolost...</td>\n",
              "    </tr>\n",
              "    <tr>\n",
              "      <th>2755</th>\n",
              "      <td>Totole kaldu jamur 200 gram</td>\n",
              "      <td>Legal</td>\n",
              "      <td>https://shopee.co.id/Totole-kaldu-jamur-200-gr...</td>\n",
              "      <td>totole kaldu jamur gram</td>\n",
              "    </tr>\n",
              "    <tr>\n",
              "      <th>2756</th>\n",
              "      <td>Trieste Italian Syrup 650mL - Coffee Syrup : C...</td>\n",
              "      <td>Ilegal</td>\n",
              "      <td>https://shopee.co.id/Trieste-Italian-Syrup-650...</td>\n",
              "      <td>trieste italian syrup ml coffee syrup caramel ...</td>\n",
              "    </tr>\n",
              "    <tr>\n",
              "      <th>2757</th>\n",
              "      <td>Wilmond Mandarin Orange in Syrup 312gr - Buah ...</td>\n",
              "      <td>Legal</td>\n",
              "      <td>https://shopee.co.id/Wilmond-Mandarin-Orange-i...</td>\n",
              "      <td>wilmond mandarin orange in syrup gr buah jeruk...</td>\n",
              "    </tr>\n",
              "    <tr>\n",
              "      <th>2758</th>\n",
              "      <td>Yomas kornet ayam 1 kg isi 40</td>\n",
              "      <td>Legal</td>\n",
              "      <td>https://shopee.co.id/Yomas-kornet-ayam-1-kg-is...</td>\n",
              "      <td>yomas kornet ayam kg isi</td>\n",
              "    </tr>\n",
              "  </tbody>\n",
              "</table>\n",
              "<p>2759 rows × 4 columns</p>\n",
              "</div>\n",
              "    <div class=\"colab-df-buttons\">\n",
              "\n",
              "  <div class=\"colab-df-container\">\n",
              "    <button class=\"colab-df-convert\" onclick=\"convertToInteractive('df-a325bbfc-f3a1-4d0d-beee-7576d6cb71b9')\"\n",
              "            title=\"Convert this dataframe to an interactive table.\"\n",
              "            style=\"display:none;\">\n",
              "\n",
              "  <svg xmlns=\"http://www.w3.org/2000/svg\" height=\"24px\" viewBox=\"0 -960 960 960\">\n",
              "    <path d=\"M120-120v-720h720v720H120Zm60-500h600v-160H180v160Zm220 220h160v-160H400v160Zm0 220h160v-160H400v160ZM180-400h160v-160H180v160Zm440 0h160v-160H620v160ZM180-180h160v-160H180v160Zm440 0h160v-160H620v160Z\"/>\n",
              "  </svg>\n",
              "    </button>\n",
              "\n",
              "  <style>\n",
              "    .colab-df-container {\n",
              "      display:flex;\n",
              "      gap: 12px;\n",
              "    }\n",
              "\n",
              "    .colab-df-convert {\n",
              "      background-color: #E8F0FE;\n",
              "      border: none;\n",
              "      border-radius: 50%;\n",
              "      cursor: pointer;\n",
              "      display: none;\n",
              "      fill: #1967D2;\n",
              "      height: 32px;\n",
              "      padding: 0 0 0 0;\n",
              "      width: 32px;\n",
              "    }\n",
              "\n",
              "    .colab-df-convert:hover {\n",
              "      background-color: #E2EBFA;\n",
              "      box-shadow: 0px 1px 2px rgba(60, 64, 67, 0.3), 0px 1px 3px 1px rgba(60, 64, 67, 0.15);\n",
              "      fill: #174EA6;\n",
              "    }\n",
              "\n",
              "    .colab-df-buttons div {\n",
              "      margin-bottom: 4px;\n",
              "    }\n",
              "\n",
              "    [theme=dark] .colab-df-convert {\n",
              "      background-color: #3B4455;\n",
              "      fill: #D2E3FC;\n",
              "    }\n",
              "\n",
              "    [theme=dark] .colab-df-convert:hover {\n",
              "      background-color: #434B5C;\n",
              "      box-shadow: 0px 1px 3px 1px rgba(0, 0, 0, 0.15);\n",
              "      filter: drop-shadow(0px 1px 2px rgba(0, 0, 0, 0.3));\n",
              "      fill: #FFFFFF;\n",
              "    }\n",
              "  </style>\n",
              "\n",
              "    <script>\n",
              "      const buttonEl =\n",
              "        document.querySelector('#df-a325bbfc-f3a1-4d0d-beee-7576d6cb71b9 button.colab-df-convert');\n",
              "      buttonEl.style.display =\n",
              "        google.colab.kernel.accessAllowed ? 'block' : 'none';\n",
              "\n",
              "      async function convertToInteractive(key) {\n",
              "        const element = document.querySelector('#df-a325bbfc-f3a1-4d0d-beee-7576d6cb71b9');\n",
              "        const dataTable =\n",
              "          await google.colab.kernel.invokeFunction('convertToInteractive',\n",
              "                                                    [key], {});\n",
              "        if (!dataTable) return;\n",
              "\n",
              "        const docLinkHtml = 'Like what you see? Visit the ' +\n",
              "          '<a target=\"_blank\" href=https://colab.research.google.com/notebooks/data_table.ipynb>data table notebook</a>'\n",
              "          + ' to learn more about interactive tables.';\n",
              "        element.innerHTML = '';\n",
              "        dataTable['output_type'] = 'display_data';\n",
              "        await google.colab.output.renderOutput(dataTable, element);\n",
              "        const docLink = document.createElement('div');\n",
              "        docLink.innerHTML = docLinkHtml;\n",
              "        element.appendChild(docLink);\n",
              "      }\n",
              "    </script>\n",
              "  </div>\n",
              "\n",
              "\n",
              "<div id=\"df-596362e2-23a5-4b9f-b405-32670c1a191c\">\n",
              "  <button class=\"colab-df-quickchart\" onclick=\"quickchart('df-596362e2-23a5-4b9f-b405-32670c1a191c')\"\n",
              "            title=\"Suggest charts\"\n",
              "            style=\"display:none;\">\n",
              "\n",
              "<svg xmlns=\"http://www.w3.org/2000/svg\" height=\"24px\"viewBox=\"0 0 24 24\"\n",
              "     width=\"24px\">\n",
              "    <g>\n",
              "        <path d=\"M19 3H5c-1.1 0-2 .9-2 2v14c0 1.1.9 2 2 2h14c1.1 0 2-.9 2-2V5c0-1.1-.9-2-2-2zM9 17H7v-7h2v7zm4 0h-2V7h2v10zm4 0h-2v-4h2v4z\"/>\n",
              "    </g>\n",
              "</svg>\n",
              "  </button>\n",
              "\n",
              "<style>\n",
              "  .colab-df-quickchart {\n",
              "      --bg-color: #E8F0FE;\n",
              "      --fill-color: #1967D2;\n",
              "      --hover-bg-color: #E2EBFA;\n",
              "      --hover-fill-color: #174EA6;\n",
              "      --disabled-fill-color: #AAA;\n",
              "      --disabled-bg-color: #DDD;\n",
              "  }\n",
              "\n",
              "  [theme=dark] .colab-df-quickchart {\n",
              "      --bg-color: #3B4455;\n",
              "      --fill-color: #D2E3FC;\n",
              "      --hover-bg-color: #434B5C;\n",
              "      --hover-fill-color: #FFFFFF;\n",
              "      --disabled-bg-color: #3B4455;\n",
              "      --disabled-fill-color: #666;\n",
              "  }\n",
              "\n",
              "  .colab-df-quickchart {\n",
              "    background-color: var(--bg-color);\n",
              "    border: none;\n",
              "    border-radius: 50%;\n",
              "    cursor: pointer;\n",
              "    display: none;\n",
              "    fill: var(--fill-color);\n",
              "    height: 32px;\n",
              "    padding: 0;\n",
              "    width: 32px;\n",
              "  }\n",
              "\n",
              "  .colab-df-quickchart:hover {\n",
              "    background-color: var(--hover-bg-color);\n",
              "    box-shadow: 0 1px 2px rgba(60, 64, 67, 0.3), 0 1px 3px 1px rgba(60, 64, 67, 0.15);\n",
              "    fill: var(--button-hover-fill-color);\n",
              "  }\n",
              "\n",
              "  .colab-df-quickchart-complete:disabled,\n",
              "  .colab-df-quickchart-complete:disabled:hover {\n",
              "    background-color: var(--disabled-bg-color);\n",
              "    fill: var(--disabled-fill-color);\n",
              "    box-shadow: none;\n",
              "  }\n",
              "\n",
              "  .colab-df-spinner {\n",
              "    border: 2px solid var(--fill-color);\n",
              "    border-color: transparent;\n",
              "    border-bottom-color: var(--fill-color);\n",
              "    animation:\n",
              "      spin 1s steps(1) infinite;\n",
              "  }\n",
              "\n",
              "  @keyframes spin {\n",
              "    0% {\n",
              "      border-color: transparent;\n",
              "      border-bottom-color: var(--fill-color);\n",
              "      border-left-color: var(--fill-color);\n",
              "    }\n",
              "    20% {\n",
              "      border-color: transparent;\n",
              "      border-left-color: var(--fill-color);\n",
              "      border-top-color: var(--fill-color);\n",
              "    }\n",
              "    30% {\n",
              "      border-color: transparent;\n",
              "      border-left-color: var(--fill-color);\n",
              "      border-top-color: var(--fill-color);\n",
              "      border-right-color: var(--fill-color);\n",
              "    }\n",
              "    40% {\n",
              "      border-color: transparent;\n",
              "      border-right-color: var(--fill-color);\n",
              "      border-top-color: var(--fill-color);\n",
              "    }\n",
              "    60% {\n",
              "      border-color: transparent;\n",
              "      border-right-color: var(--fill-color);\n",
              "    }\n",
              "    80% {\n",
              "      border-color: transparent;\n",
              "      border-right-color: var(--fill-color);\n",
              "      border-bottom-color: var(--fill-color);\n",
              "    }\n",
              "    90% {\n",
              "      border-color: transparent;\n",
              "      border-bottom-color: var(--fill-color);\n",
              "    }\n",
              "  }\n",
              "</style>\n",
              "\n",
              "  <script>\n",
              "    async function quickchart(key) {\n",
              "      const quickchartButtonEl =\n",
              "        document.querySelector('#' + key + ' button');\n",
              "      quickchartButtonEl.disabled = true;  // To prevent multiple clicks.\n",
              "      quickchartButtonEl.classList.add('colab-df-spinner');\n",
              "      try {\n",
              "        const charts = await google.colab.kernel.invokeFunction(\n",
              "            'suggestCharts', [key], {});\n",
              "      } catch (error) {\n",
              "        console.error('Error during call to suggestCharts:', error);\n",
              "      }\n",
              "      quickchartButtonEl.classList.remove('colab-df-spinner');\n",
              "      quickchartButtonEl.classList.add('colab-df-quickchart-complete');\n",
              "    }\n",
              "    (() => {\n",
              "      let quickchartButtonEl =\n",
              "        document.querySelector('#df-596362e2-23a5-4b9f-b405-32670c1a191c button');\n",
              "      quickchartButtonEl.style.display =\n",
              "        google.colab.kernel.accessAllowed ? 'block' : 'none';\n",
              "    })();\n",
              "  </script>\n",
              "</div>\n",
              "    </div>\n",
              "  </div>\n"
            ],
            "application/vnd.google.colaboratory.intrinsic+json": {
              "type": "dataframe",
              "variable_name": "df",
              "summary": "{\n  \"name\": \"df\",\n  \"rows\": 2759,\n  \"fields\": [\n    {\n      \"column\": \"title\",\n      \"properties\": {\n        \"dtype\": \"string\",\n        \"num_unique_values\": 2537,\n        \"samples\": [\n          \"Pangpang Pedas Manis 1Kg Murah Enak Renyah / Pang Pang Kiloan/ Pangpang Manis Kiloan\",\n          \"1kg keripik usus ayam jaya makmur 2 snack\",\n          \"BIR PLETOK / BANDREK / MINUMAN JAHE MERAH INSTAN MURAH\"\n        ],\n        \"semantic_type\": \"\",\n        \"description\": \"\"\n      }\n    },\n    {\n      \"column\": \"label\",\n      \"properties\": {\n        \"dtype\": \"category\",\n        \"num_unique_values\": 2,\n        \"samples\": [\n          \"Ilegal\",\n          \"Legal\"\n        ],\n        \"semantic_type\": \"\",\n        \"description\": \"\"\n      }\n    },\n    {\n      \"column\": \"link\",\n      \"properties\": {\n        \"dtype\": \"string\",\n        \"num_unique_values\": 2759,\n        \"samples\": [\n          \"https://shopee.co.id/Bakso-Goreng-Iris-(Basreng)-murah-kiloan-kg-i.468014622.21856999715?sp_atk=17465b6e-7bf2-4ef5-ad86-2baa79e9270f&xptdk=17465b6e-7bf2-4ef5-ad86-2baa79e9270f\",\n          \"https://shopee.co.id/Lactogen-Premature-LBW-400-g-i.190409597.18086480170?sp_atk=7d56eb43-3433-4264-9571-00ab215c6571&xptdk=7d56eb43-3433-4264-9571-00ab215c6571\"\n        ],\n        \"semantic_type\": \"\",\n        \"description\": \"\"\n      }\n    },\n    {\n      \"column\": \"preprocessed_text\",\n      \"properties\": {\n        \"dtype\": \"string\",\n        \"num_unique_values\": 2410,\n        \"samples\": [\n          \"taro snack cemilan kilo original kirim expired jamin aman\",\n          \"vibe whisky ml\"\n        ],\n        \"semantic_type\": \"\",\n        \"description\": \"\"\n      }\n    }\n  ]\n}"
            }
          },
          "metadata": {},
          "execution_count": 13
        }
      ]
    },
    {
      "cell_type": "code",
      "source": [
        "X_train, X_valid, train_y, valid_y = train_test_split(df[TEXT], df[LABEL], random_state=42, stratify=df[LABEL], test_size=0.2)"
      ],
      "metadata": {
        "id": "9kW_L6ReJ6B4"
      },
      "execution_count": 30,
      "outputs": []
    },
    {
      "cell_type": "code",
      "source": [
        "label_mapping = {'Legal': 0, 'Ilegal': 1}\n",
        "y_train = [label_mapping[label] for label in train_y]\n",
        "y_valid = [label_mapping[label] for label in valid_y]"
      ],
      "metadata": {
        "id": "E3Jv74Q-KByD"
      },
      "execution_count": 31,
      "outputs": []
    },
    {
      "cell_type": "code",
      "source": [
        "X_train.shape"
      ],
      "metadata": {
        "colab": {
          "base_uri": "https://localhost:8080/"
        },
        "id": "xseULo1wKqLB",
        "outputId": "e3e2337b-8ef5-4819-b222-caf91c49c2a0"
      },
      "execution_count": 32,
      "outputs": [
        {
          "output_type": "execute_result",
          "data": {
            "text/plain": [
              "(2207,)"
            ]
          },
          "metadata": {},
          "execution_count": 32
        }
      ]
    },
    {
      "cell_type": "code",
      "source": [
        "X_train"
      ],
      "metadata": {
        "colab": {
          "base_uri": "https://localhost:8080/"
        },
        "id": "2y8Sk1TbQACc",
        "outputId": "5c0164bf-3379-4c10-a452-283d310fa27e"
      },
      "execution_count": 33,
      "outputs": [
        {
          "output_type": "execute_result",
          "data": {
            "text/plain": [
              "315      Arak Masak Merah AT Cap Lonceng/Angciu AT 600 ml\n",
              "2236            Snack Ori Branded TERMURAH!!! Jetz 250 gr\n",
              "992                             GROOVYROOTBEER CAN 330 ML\n",
              "874     Enfamil HMF Human Milk Fortifier BOX (Suplemen...\n",
              "637     Cereal Nutriflakes - Original Sereal Umbi Garu...\n",
              "                              ...                        \n",
              "1443    Minuman Tradisional Kahs Bali kemasan 600ml Ca...\n",
              "390                                  Batavia Whisky 350ml\n",
              "678     Coco Macaron Sandwich biscuit impor coco macar...\n",
              "907     FLIMTY BOX / ALL VARIAN /  READY BOX & SACHET ...\n",
              "1924    S-26 HMF GOLD (S26 Human Milk Fortifier) Pelen...\n",
              "Name: title, Length: 2207, dtype: object"
            ]
          },
          "metadata": {},
          "execution_count": 33
        }
      ]
    },
    {
      "cell_type": "markdown",
      "source": [
        "## Training Pipeline"
      ],
      "metadata": {
        "id": "Xy7khokcSYQX"
      }
    },
    {
      "cell_type": "code",
      "source": [
        "preprocess_transformer = FunctionTransformer(preprocess_text_series, validate=False)"
      ],
      "metadata": {
        "id": "qVH8d9DmXdgl"
      },
      "execution_count": 54,
      "outputs": []
    },
    {
      "cell_type": "code",
      "source": [
        "pipeline = Pipeline([\n",
        "    ('preprocess', preprocess_transformer),\n",
        "    ('tfidf', TfidfVectorizer()),\n",
        "    ('rf', RandomForestClassifier())\n",
        "])"
      ],
      "metadata": {
        "id": "aVFwlqe3KsMU"
      },
      "execution_count": 55,
      "outputs": []
    },
    {
      "cell_type": "code",
      "source": [
        "pipeline.fit(X_train, y_train)\n",
        "\n",
        "predictions = pipeline.predict(X_valid)\n",
        "print(classification_report(y_valid, predictions))"
      ],
      "metadata": {
        "colab": {
          "base_uri": "https://localhost:8080/"
        },
        "id": "UWOTQ9FhK4wa",
        "outputId": "9d7c2665-a8bb-4544-c146-f30c2c7cddb8"
      },
      "execution_count": 56,
      "outputs": [
        {
          "output_type": "stream",
          "name": "stdout",
          "text": [
            "              precision    recall  f1-score   support\n",
            "\n",
            "           0       0.86      0.81      0.83       261\n",
            "           1       0.84      0.88      0.86       291\n",
            "\n",
            "    accuracy                           0.85       552\n",
            "   macro avg       0.85      0.84      0.84       552\n",
            "weighted avg       0.85      0.85      0.85       552\n",
            "\n"
          ]
        }
      ]
    },
    {
      "cell_type": "markdown",
      "source": [
        "# Use pipeline for prediction"
      ],
      "metadata": {
        "id": "cP2H0EuLSijf"
      }
    },
    {
      "cell_type": "code",
      "source": [
        "pipeline.named_steps['preprocess']"
      ],
      "metadata": {
        "colab": {
          "base_uri": "https://localhost:8080/",
          "height": 75
        },
        "id": "rFCUJNUsU2Ca",
        "outputId": "22a189e2-f6e8-4511-a95d-e5bb5d4101b4"
      },
      "execution_count": 57,
      "outputs": [
        {
          "output_type": "execute_result",
          "data": {
            "text/plain": [
              "FunctionTransformer(func=<function preprocess_text_series at 0x79083ab58f70>)"
            ],
            "text/html": [
              "<style>#sk-container-id-2 {color: black;background-color: white;}#sk-container-id-2 pre{padding: 0;}#sk-container-id-2 div.sk-toggleable {background-color: white;}#sk-container-id-2 label.sk-toggleable__label {cursor: pointer;display: block;width: 100%;margin-bottom: 0;padding: 0.3em;box-sizing: border-box;text-align: center;}#sk-container-id-2 label.sk-toggleable__label-arrow:before {content: \"▸\";float: left;margin-right: 0.25em;color: #696969;}#sk-container-id-2 label.sk-toggleable__label-arrow:hover:before {color: black;}#sk-container-id-2 div.sk-estimator:hover label.sk-toggleable__label-arrow:before {color: black;}#sk-container-id-2 div.sk-toggleable__content {max-height: 0;max-width: 0;overflow: hidden;text-align: left;background-color: #f0f8ff;}#sk-container-id-2 div.sk-toggleable__content pre {margin: 0.2em;color: black;border-radius: 0.25em;background-color: #f0f8ff;}#sk-container-id-2 input.sk-toggleable__control:checked~div.sk-toggleable__content {max-height: 200px;max-width: 100%;overflow: auto;}#sk-container-id-2 input.sk-toggleable__control:checked~label.sk-toggleable__label-arrow:before {content: \"▾\";}#sk-container-id-2 div.sk-estimator input.sk-toggleable__control:checked~label.sk-toggleable__label {background-color: #d4ebff;}#sk-container-id-2 div.sk-label input.sk-toggleable__control:checked~label.sk-toggleable__label {background-color: #d4ebff;}#sk-container-id-2 input.sk-hidden--visually {border: 0;clip: rect(1px 1px 1px 1px);clip: rect(1px, 1px, 1px, 1px);height: 1px;margin: -1px;overflow: hidden;padding: 0;position: absolute;width: 1px;}#sk-container-id-2 div.sk-estimator {font-family: monospace;background-color: #f0f8ff;border: 1px dotted black;border-radius: 0.25em;box-sizing: border-box;margin-bottom: 0.5em;}#sk-container-id-2 div.sk-estimator:hover {background-color: #d4ebff;}#sk-container-id-2 div.sk-parallel-item::after {content: \"\";width: 100%;border-bottom: 1px solid gray;flex-grow: 1;}#sk-container-id-2 div.sk-label:hover label.sk-toggleable__label {background-color: #d4ebff;}#sk-container-id-2 div.sk-serial::before {content: \"\";position: absolute;border-left: 1px solid gray;box-sizing: border-box;top: 0;bottom: 0;left: 50%;z-index: 0;}#sk-container-id-2 div.sk-serial {display: flex;flex-direction: column;align-items: center;background-color: white;padding-right: 0.2em;padding-left: 0.2em;position: relative;}#sk-container-id-2 div.sk-item {position: relative;z-index: 1;}#sk-container-id-2 div.sk-parallel {display: flex;align-items: stretch;justify-content: center;background-color: white;position: relative;}#sk-container-id-2 div.sk-item::before, #sk-container-id-2 div.sk-parallel-item::before {content: \"\";position: absolute;border-left: 1px solid gray;box-sizing: border-box;top: 0;bottom: 0;left: 50%;z-index: -1;}#sk-container-id-2 div.sk-parallel-item {display: flex;flex-direction: column;z-index: 1;position: relative;background-color: white;}#sk-container-id-2 div.sk-parallel-item:first-child::after {align-self: flex-end;width: 50%;}#sk-container-id-2 div.sk-parallel-item:last-child::after {align-self: flex-start;width: 50%;}#sk-container-id-2 div.sk-parallel-item:only-child::after {width: 0;}#sk-container-id-2 div.sk-dashed-wrapped {border: 1px dashed gray;margin: 0 0.4em 0.5em 0.4em;box-sizing: border-box;padding-bottom: 0.4em;background-color: white;}#sk-container-id-2 div.sk-label label {font-family: monospace;font-weight: bold;display: inline-block;line-height: 1.2em;}#sk-container-id-2 div.sk-label-container {text-align: center;}#sk-container-id-2 div.sk-container {/* jupyter's `normalize.less` sets `[hidden] { display: none; }` but bootstrap.min.css set `[hidden] { display: none !important; }` so we also need the `!important` here to be able to override the default hidden behavior on the sphinx rendered scikit-learn.org. See: https://github.com/scikit-learn/scikit-learn/issues/21755 */display: inline-block !important;position: relative;}#sk-container-id-2 div.sk-text-repr-fallback {display: none;}</style><div id=\"sk-container-id-2\" class=\"sk-top-container\"><div class=\"sk-text-repr-fallback\"><pre>FunctionTransformer(func=&lt;function preprocess_text_series at 0x79083ab58f70&gt;)</pre><b>In a Jupyter environment, please rerun this cell to show the HTML representation or trust the notebook. <br />On GitHub, the HTML representation is unable to render, please try loading this page with nbviewer.org.</b></div><div class=\"sk-container\" hidden><div class=\"sk-item\"><div class=\"sk-estimator sk-toggleable\"><input class=\"sk-toggleable__control sk-hidden--visually\" id=\"sk-estimator-id-2\" type=\"checkbox\" checked><label for=\"sk-estimator-id-2\" class=\"sk-toggleable__label sk-toggleable__label-arrow\">FunctionTransformer</label><div class=\"sk-toggleable__content\"><pre>FunctionTransformer(func=&lt;function preprocess_text_series at 0x79083ab58f70&gt;)</pre></div></div></div></div></div>"
            ]
          },
          "metadata": {},
          "execution_count": 57
        }
      ]
    },
    {
      "cell_type": "code",
      "source": [
        "pr = pipeline.named_steps['preprocess'].transform(df['title'])"
      ],
      "metadata": {
        "id": "TKXSm2FFVcKj"
      },
      "execution_count": 58,
      "outputs": []
    },
    {
      "cell_type": "code",
      "source": [
        "pr"
      ],
      "metadata": {
        "colab": {
          "base_uri": "https://localhost:8080/"
        },
        "id": "m4ImunlyVikc",
        "outputId": "28f49f7a-1a7e-448d-8432-f9e2046c2081"
      },
      "execution_count": 59,
      "outputs": [
        {
          "output_type": "execute_result",
          "data": {
            "text/plain": [
              "0                                  lactogen prematur bblr\n",
              "1          batita dus madu susu formula tumbuh anak bubuk\n",
              "2            batita vanila susu formula tumbuh anak bubuk\n",
              "3          datita dus madu susu formula tumbuh anak bubuk\n",
              "4            datita vanila susu formula tumbuh anak bubuk\n",
              "                              ...                        \n",
              "2754    ternak syams premium susu kambing etawa kolost...\n",
              "2755                                   totole kaldu jamur\n",
              "2756    trieste italian syrup coffee syrup caramel van...\n",
              "2757    wilmond mandarin orange in syrup buah jeruk ma...\n",
              "2758                                yomas kornet ayam isi\n",
              "Name: title, Length: 2759, dtype: object"
            ]
          },
          "metadata": {},
          "execution_count": 59
        }
      ]
    },
    {
      "cell_type": "code",
      "source": [
        "food_titles_indonesia = [\n",
        "    \"Beras Organik\",\n",
        "    \"Minyak Kelapa Murni\",\n",
        "    \"Ikan Tongkol Segar\",\n",
        "    \"Dendeng Sapi Kualitas Premium\",\n",
        "    \"Pilihan Keju Lokal\",\n",
        "    \"Truffle Cokelat Handcrafted\",\n",
        "    \"Telur Ayam Kampung\",\n",
        "    \"Sayuran Organik\",\n",
        "    \"Bumbu Nasi Goreng Instan\",\n",
        "    \"Garam Laut Himalaya\",\n",
        "    \"Madu Murni\",\n",
        "    \"Jamur Organik Pilihan\",\n",
        "    \"Roti Gandum Organik\",\n",
        "    \"Telur Ayam Organik\",\n",
        "    \"Jus Hijau Segar\",\n",
        "    \"Protein Nabati\",\n",
        "    \"Granola Berbiji\",\n",
        "    \"Madu Lokal Pilihan\",\n",
        "    \"Sirup Mapel Kualitas Terbaik\",\n",
        "    \"Pasta Artisanal\"\n",
        "]\n",
        "\n",
        "# Creating the DataFrame\n",
        "df_dummy = pd.DataFrame({\"title\": food_titles_indonesia})"
      ],
      "metadata": {
        "id": "gOU3vy84V7VX"
      },
      "execution_count": 60,
      "outputs": []
    },
    {
      "cell_type": "code",
      "source": [
        "df_dummy.head()"
      ],
      "metadata": {
        "colab": {
          "base_uri": "https://localhost:8080/",
          "height": 206
        },
        "id": "fpH_boBIWAAn",
        "outputId": "ba08cb62-d076-4ff6-a3d8-b48831180575"
      },
      "execution_count": 61,
      "outputs": [
        {
          "output_type": "execute_result",
          "data": {
            "text/plain": [
              "                           title\n",
              "0                  Beras Organik\n",
              "1            Minyak Kelapa Murni\n",
              "2             Ikan Tongkol Segar\n",
              "3  Dendeng Sapi Kualitas Premium\n",
              "4             Pilihan Keju Lokal"
            ],
            "text/html": [
              "\n",
              "  <div id=\"df-357b8e13-d15c-4f69-a3d9-6dc34788b494\" class=\"colab-df-container\">\n",
              "    <div>\n",
              "<style scoped>\n",
              "    .dataframe tbody tr th:only-of-type {\n",
              "        vertical-align: middle;\n",
              "    }\n",
              "\n",
              "    .dataframe tbody tr th {\n",
              "        vertical-align: top;\n",
              "    }\n",
              "\n",
              "    .dataframe thead th {\n",
              "        text-align: right;\n",
              "    }\n",
              "</style>\n",
              "<table border=\"1\" class=\"dataframe\">\n",
              "  <thead>\n",
              "    <tr style=\"text-align: right;\">\n",
              "      <th></th>\n",
              "      <th>title</th>\n",
              "    </tr>\n",
              "  </thead>\n",
              "  <tbody>\n",
              "    <tr>\n",
              "      <th>0</th>\n",
              "      <td>Beras Organik</td>\n",
              "    </tr>\n",
              "    <tr>\n",
              "      <th>1</th>\n",
              "      <td>Minyak Kelapa Murni</td>\n",
              "    </tr>\n",
              "    <tr>\n",
              "      <th>2</th>\n",
              "      <td>Ikan Tongkol Segar</td>\n",
              "    </tr>\n",
              "    <tr>\n",
              "      <th>3</th>\n",
              "      <td>Dendeng Sapi Kualitas Premium</td>\n",
              "    </tr>\n",
              "    <tr>\n",
              "      <th>4</th>\n",
              "      <td>Pilihan Keju Lokal</td>\n",
              "    </tr>\n",
              "  </tbody>\n",
              "</table>\n",
              "</div>\n",
              "    <div class=\"colab-df-buttons\">\n",
              "\n",
              "  <div class=\"colab-df-container\">\n",
              "    <button class=\"colab-df-convert\" onclick=\"convertToInteractive('df-357b8e13-d15c-4f69-a3d9-6dc34788b494')\"\n",
              "            title=\"Convert this dataframe to an interactive table.\"\n",
              "            style=\"display:none;\">\n",
              "\n",
              "  <svg xmlns=\"http://www.w3.org/2000/svg\" height=\"24px\" viewBox=\"0 -960 960 960\">\n",
              "    <path d=\"M120-120v-720h720v720H120Zm60-500h600v-160H180v160Zm220 220h160v-160H400v160Zm0 220h160v-160H400v160ZM180-400h160v-160H180v160Zm440 0h160v-160H620v160ZM180-180h160v-160H180v160Zm440 0h160v-160H620v160Z\"/>\n",
              "  </svg>\n",
              "    </button>\n",
              "\n",
              "  <style>\n",
              "    .colab-df-container {\n",
              "      display:flex;\n",
              "      gap: 12px;\n",
              "    }\n",
              "\n",
              "    .colab-df-convert {\n",
              "      background-color: #E8F0FE;\n",
              "      border: none;\n",
              "      border-radius: 50%;\n",
              "      cursor: pointer;\n",
              "      display: none;\n",
              "      fill: #1967D2;\n",
              "      height: 32px;\n",
              "      padding: 0 0 0 0;\n",
              "      width: 32px;\n",
              "    }\n",
              "\n",
              "    .colab-df-convert:hover {\n",
              "      background-color: #E2EBFA;\n",
              "      box-shadow: 0px 1px 2px rgba(60, 64, 67, 0.3), 0px 1px 3px 1px rgba(60, 64, 67, 0.15);\n",
              "      fill: #174EA6;\n",
              "    }\n",
              "\n",
              "    .colab-df-buttons div {\n",
              "      margin-bottom: 4px;\n",
              "    }\n",
              "\n",
              "    [theme=dark] .colab-df-convert {\n",
              "      background-color: #3B4455;\n",
              "      fill: #D2E3FC;\n",
              "    }\n",
              "\n",
              "    [theme=dark] .colab-df-convert:hover {\n",
              "      background-color: #434B5C;\n",
              "      box-shadow: 0px 1px 3px 1px rgba(0, 0, 0, 0.15);\n",
              "      filter: drop-shadow(0px 1px 2px rgba(0, 0, 0, 0.3));\n",
              "      fill: #FFFFFF;\n",
              "    }\n",
              "  </style>\n",
              "\n",
              "    <script>\n",
              "      const buttonEl =\n",
              "        document.querySelector('#df-357b8e13-d15c-4f69-a3d9-6dc34788b494 button.colab-df-convert');\n",
              "      buttonEl.style.display =\n",
              "        google.colab.kernel.accessAllowed ? 'block' : 'none';\n",
              "\n",
              "      async function convertToInteractive(key) {\n",
              "        const element = document.querySelector('#df-357b8e13-d15c-4f69-a3d9-6dc34788b494');\n",
              "        const dataTable =\n",
              "          await google.colab.kernel.invokeFunction('convertToInteractive',\n",
              "                                                    [key], {});\n",
              "        if (!dataTable) return;\n",
              "\n",
              "        const docLinkHtml = 'Like what you see? Visit the ' +\n",
              "          '<a target=\"_blank\" href=https://colab.research.google.com/notebooks/data_table.ipynb>data table notebook</a>'\n",
              "          + ' to learn more about interactive tables.';\n",
              "        element.innerHTML = '';\n",
              "        dataTable['output_type'] = 'display_data';\n",
              "        await google.colab.output.renderOutput(dataTable, element);\n",
              "        const docLink = document.createElement('div');\n",
              "        docLink.innerHTML = docLinkHtml;\n",
              "        element.appendChild(docLink);\n",
              "      }\n",
              "    </script>\n",
              "  </div>\n",
              "\n",
              "\n",
              "<div id=\"df-497f0b30-2986-4fa0-bc29-5f909d7b9029\">\n",
              "  <button class=\"colab-df-quickchart\" onclick=\"quickchart('df-497f0b30-2986-4fa0-bc29-5f909d7b9029')\"\n",
              "            title=\"Suggest charts\"\n",
              "            style=\"display:none;\">\n",
              "\n",
              "<svg xmlns=\"http://www.w3.org/2000/svg\" height=\"24px\"viewBox=\"0 0 24 24\"\n",
              "     width=\"24px\">\n",
              "    <g>\n",
              "        <path d=\"M19 3H5c-1.1 0-2 .9-2 2v14c0 1.1.9 2 2 2h14c1.1 0 2-.9 2-2V5c0-1.1-.9-2-2-2zM9 17H7v-7h2v7zm4 0h-2V7h2v10zm4 0h-2v-4h2v4z\"/>\n",
              "    </g>\n",
              "</svg>\n",
              "  </button>\n",
              "\n",
              "<style>\n",
              "  .colab-df-quickchart {\n",
              "      --bg-color: #E8F0FE;\n",
              "      --fill-color: #1967D2;\n",
              "      --hover-bg-color: #E2EBFA;\n",
              "      --hover-fill-color: #174EA6;\n",
              "      --disabled-fill-color: #AAA;\n",
              "      --disabled-bg-color: #DDD;\n",
              "  }\n",
              "\n",
              "  [theme=dark] .colab-df-quickchart {\n",
              "      --bg-color: #3B4455;\n",
              "      --fill-color: #D2E3FC;\n",
              "      --hover-bg-color: #434B5C;\n",
              "      --hover-fill-color: #FFFFFF;\n",
              "      --disabled-bg-color: #3B4455;\n",
              "      --disabled-fill-color: #666;\n",
              "  }\n",
              "\n",
              "  .colab-df-quickchart {\n",
              "    background-color: var(--bg-color);\n",
              "    border: none;\n",
              "    border-radius: 50%;\n",
              "    cursor: pointer;\n",
              "    display: none;\n",
              "    fill: var(--fill-color);\n",
              "    height: 32px;\n",
              "    padding: 0;\n",
              "    width: 32px;\n",
              "  }\n",
              "\n",
              "  .colab-df-quickchart:hover {\n",
              "    background-color: var(--hover-bg-color);\n",
              "    box-shadow: 0 1px 2px rgba(60, 64, 67, 0.3), 0 1px 3px 1px rgba(60, 64, 67, 0.15);\n",
              "    fill: var(--button-hover-fill-color);\n",
              "  }\n",
              "\n",
              "  .colab-df-quickchart-complete:disabled,\n",
              "  .colab-df-quickchart-complete:disabled:hover {\n",
              "    background-color: var(--disabled-bg-color);\n",
              "    fill: var(--disabled-fill-color);\n",
              "    box-shadow: none;\n",
              "  }\n",
              "\n",
              "  .colab-df-spinner {\n",
              "    border: 2px solid var(--fill-color);\n",
              "    border-color: transparent;\n",
              "    border-bottom-color: var(--fill-color);\n",
              "    animation:\n",
              "      spin 1s steps(1) infinite;\n",
              "  }\n",
              "\n",
              "  @keyframes spin {\n",
              "    0% {\n",
              "      border-color: transparent;\n",
              "      border-bottom-color: var(--fill-color);\n",
              "      border-left-color: var(--fill-color);\n",
              "    }\n",
              "    20% {\n",
              "      border-color: transparent;\n",
              "      border-left-color: var(--fill-color);\n",
              "      border-top-color: var(--fill-color);\n",
              "    }\n",
              "    30% {\n",
              "      border-color: transparent;\n",
              "      border-left-color: var(--fill-color);\n",
              "      border-top-color: var(--fill-color);\n",
              "      border-right-color: var(--fill-color);\n",
              "    }\n",
              "    40% {\n",
              "      border-color: transparent;\n",
              "      border-right-color: var(--fill-color);\n",
              "      border-top-color: var(--fill-color);\n",
              "    }\n",
              "    60% {\n",
              "      border-color: transparent;\n",
              "      border-right-color: var(--fill-color);\n",
              "    }\n",
              "    80% {\n",
              "      border-color: transparent;\n",
              "      border-right-color: var(--fill-color);\n",
              "      border-bottom-color: var(--fill-color);\n",
              "    }\n",
              "    90% {\n",
              "      border-color: transparent;\n",
              "      border-bottom-color: var(--fill-color);\n",
              "    }\n",
              "  }\n",
              "</style>\n",
              "\n",
              "  <script>\n",
              "    async function quickchart(key) {\n",
              "      const quickchartButtonEl =\n",
              "        document.querySelector('#' + key + ' button');\n",
              "      quickchartButtonEl.disabled = true;  // To prevent multiple clicks.\n",
              "      quickchartButtonEl.classList.add('colab-df-spinner');\n",
              "      try {\n",
              "        const charts = await google.colab.kernel.invokeFunction(\n",
              "            'suggestCharts', [key], {});\n",
              "      } catch (error) {\n",
              "        console.error('Error during call to suggestCharts:', error);\n",
              "      }\n",
              "      quickchartButtonEl.classList.remove('colab-df-spinner');\n",
              "      quickchartButtonEl.classList.add('colab-df-quickchart-complete');\n",
              "    }\n",
              "    (() => {\n",
              "      let quickchartButtonEl =\n",
              "        document.querySelector('#df-497f0b30-2986-4fa0-bc29-5f909d7b9029 button');\n",
              "      quickchartButtonEl.style.display =\n",
              "        google.colab.kernel.accessAllowed ? 'block' : 'none';\n",
              "    })();\n",
              "  </script>\n",
              "</div>\n",
              "    </div>\n",
              "  </div>\n"
            ],
            "application/vnd.google.colaboratory.intrinsic+json": {
              "type": "dataframe",
              "variable_name": "df_dummy",
              "summary": "{\n  \"name\": \"df_dummy\",\n  \"rows\": 20,\n  \"fields\": [\n    {\n      \"column\": \"title\",\n      \"properties\": {\n        \"dtype\": \"string\",\n        \"num_unique_values\": 20,\n        \"samples\": [\n          \"Beras Organik\",\n          \"Madu Lokal Pilihan\",\n          \"Protein Nabati\"\n        ],\n        \"semantic_type\": \"\",\n        \"description\": \"\"\n      }\n    }\n  ]\n}"
            }
          },
          "metadata": {},
          "execution_count": 61
        }
      ]
    },
    {
      "cell_type": "code",
      "source": [
        "pr = pipeline.named_steps['preprocess'].transform(df_dummy['title'])"
      ],
      "metadata": {
        "id": "9NAiwPIhWCUw"
      },
      "execution_count": 62,
      "outputs": []
    },
    {
      "cell_type": "code",
      "source": [
        "pr"
      ],
      "metadata": {
        "colab": {
          "base_uri": "https://localhost:8080/"
        },
        "id": "WhtBECoQWFA4",
        "outputId": "1eb21bfc-aaa3-4b99-f015-8309114f2db6"
      },
      "execution_count": 63,
      "outputs": [
        {
          "output_type": "execute_result",
          "data": {
            "text/plain": [
              "0                     beras organik\n",
              "1               minyak kelapa murni\n",
              "2                ikan tongkol segar\n",
              "3     dendeng sapi kualitas premium\n",
              "4                  pilih keju lokal\n",
              "5       truffle cokelat handcrafted\n",
              "6                telur ayam kampung\n",
              "7                     sayur organik\n",
              "8          bumbu nasi goreng instan\n",
              "9               garam laut himalaya\n",
              "10                       madu murni\n",
              "11              jamur organik pilih\n",
              "12              roti gandum organik\n",
              "13               telur ayam organik\n",
              "14                  jus hijau segar\n",
              "15                   protein nabati\n",
              "16                     granola biji\n",
              "17                 madu lokal pilih\n",
              "18        sirup mapel kualitas baik\n",
              "19                  pasta artisanal\n",
              "Name: title, dtype: object"
            ]
          },
          "metadata": {},
          "execution_count": 63
        }
      ]
    },
    {
      "cell_type": "markdown",
      "source": [
        "## Main predict funtion"
      ],
      "metadata": {
        "id": "Sq-nOjdwWR4F"
      }
    },
    {
      "cell_type": "code",
      "source": [
        "def prediction(df):\n",
        "  df['label_pred'] = pipeline.predict(df['title'])\n",
        "  return df"
      ],
      "metadata": {
        "id": "2cuqlEmoS2aZ"
      },
      "execution_count": 64,
      "outputs": []
    },
    {
      "cell_type": "code",
      "source": [
        "df = load_data_from_csv(DATA_PATH)\n",
        "df = prediction(df)\n",
        "df"
      ],
      "metadata": {
        "colab": {
          "base_uri": "https://localhost:8080/",
          "height": 597
        },
        "id": "jU-lxgZpTSi0",
        "outputId": "079284d5-1bcf-4967-fb61-fd25b316279d"
      },
      "execution_count": 65,
      "outputs": [
        {
          "output_type": "execute_result",
          "data": {
            "text/plain": [
              "                                                  title   label  \\\n",
              "0                     ️ LACTOGEN PREMATUR BBLR 400 GRAM   Legal   \n",
              "1     ‼️CUCI GUDANG‼️ BATITA 1+ 900GRAM | TANPA DUS ...   Legal   \n",
              "2     ‼️CUCI GUDANG‼️ BATITA 1+ 900GRAM | VANILA | 1...   Legal   \n",
              "3     ‼️CUCI GUDANG‼️ DATITA 3+ 900GRAM | TANPA DUS ...   Legal   \n",
              "4     ‼️CUCI GUDANG‼️ DATITA 3+ 900GRAM | VANILA | 3...   Legal   \n",
              "...                                                 ...     ...   \n",
              "2754  Ternak Syams - Premium Susu Kambing Etawa Kolo...  Ilegal   \n",
              "2755                        Totole kaldu jamur 200 gram   Legal   \n",
              "2756  Trieste Italian Syrup 650mL - Coffee Syrup : C...  Ilegal   \n",
              "2757  Wilmond Mandarin Orange in Syrup 312gr - Buah ...   Legal   \n",
              "2758                      Yomas kornet ayam 1 kg isi 40   Legal   \n",
              "\n",
              "                                                   link  \\\n",
              "0     https://shopee.co.id/️-LACTOGEN-PREMATUR-BBLR-...   \n",
              "1     https://shopee.co.id/‼️CUCI-GUDANG‼️-BATITA-1-...   \n",
              "2     https://shopee.co.id/‼️CUCI-GUDANG‼️-BATITA-1-...   \n",
              "3     https://shopee.co.id/‼️CUCI-GUDANG‼️-DATITA-3-...   \n",
              "4     https://shopee.co.id/‼️CUCI-GUDANG‼️-DATITA-3-...   \n",
              "...                                                 ...   \n",
              "2754  https://shopee.co.id/Ternak-Syams-Premium-Susu...   \n",
              "2755  https://shopee.co.id/Totole-kaldu-jamur-200-gr...   \n",
              "2756  https://shopee.co.id/Trieste-Italian-Syrup-650...   \n",
              "2757  https://shopee.co.id/Wilmond-Mandarin-Orange-i...   \n",
              "2758  https://shopee.co.id/Yomas-kornet-ayam-1-kg-is...   \n",
              "\n",
              "                                      preprocessed_text  label_pred  \n",
              "0                           lactogen prematur bblr gram           0  \n",
              "1     cuci gudang batita gram dus madu susu formula ...           0  \n",
              "2     cuci gudang batita gram vanila susu formula tu...           0  \n",
              "3     cuci gudang datita gram dus madu susu formula ...           0  \n",
              "4     cuci gudang datita gram vanila susu formula tu...           0  \n",
              "...                                                 ...         ...  \n",
              "2754  ternak syams premium susu kambing etawa kolost...           1  \n",
              "2755                            totole kaldu jamur gram           0  \n",
              "2756  trieste italian syrup ml coffee syrup caramel ...           1  \n",
              "2757  wilmond mandarin orange in syrup gr buah jeruk...           0  \n",
              "2758                           yomas kornet ayam kg isi           0  \n",
              "\n",
              "[2759 rows x 5 columns]"
            ],
            "text/html": [
              "\n",
              "  <div id=\"df-c074d47e-581c-42f0-ad99-3f9a1b93a730\" class=\"colab-df-container\">\n",
              "    <div>\n",
              "<style scoped>\n",
              "    .dataframe tbody tr th:only-of-type {\n",
              "        vertical-align: middle;\n",
              "    }\n",
              "\n",
              "    .dataframe tbody tr th {\n",
              "        vertical-align: top;\n",
              "    }\n",
              "\n",
              "    .dataframe thead th {\n",
              "        text-align: right;\n",
              "    }\n",
              "</style>\n",
              "<table border=\"1\" class=\"dataframe\">\n",
              "  <thead>\n",
              "    <tr style=\"text-align: right;\">\n",
              "      <th></th>\n",
              "      <th>title</th>\n",
              "      <th>label</th>\n",
              "      <th>link</th>\n",
              "      <th>preprocessed_text</th>\n",
              "      <th>label_pred</th>\n",
              "    </tr>\n",
              "  </thead>\n",
              "  <tbody>\n",
              "    <tr>\n",
              "      <th>0</th>\n",
              "      <td>️ LACTOGEN PREMATUR BBLR 400 GRAM</td>\n",
              "      <td>Legal</td>\n",
              "      <td>https://shopee.co.id/️-LACTOGEN-PREMATUR-BBLR-...</td>\n",
              "      <td>lactogen prematur bblr gram</td>\n",
              "      <td>0</td>\n",
              "    </tr>\n",
              "    <tr>\n",
              "      <th>1</th>\n",
              "      <td>‼️CUCI GUDANG‼️ BATITA 1+ 900GRAM | TANPA DUS ...</td>\n",
              "      <td>Legal</td>\n",
              "      <td>https://shopee.co.id/‼️CUCI-GUDANG‼️-BATITA-1-...</td>\n",
              "      <td>cuci gudang batita gram dus madu susu formula ...</td>\n",
              "      <td>0</td>\n",
              "    </tr>\n",
              "    <tr>\n",
              "      <th>2</th>\n",
              "      <td>‼️CUCI GUDANG‼️ BATITA 1+ 900GRAM | VANILA | 1...</td>\n",
              "      <td>Legal</td>\n",
              "      <td>https://shopee.co.id/‼️CUCI-GUDANG‼️-BATITA-1-...</td>\n",
              "      <td>cuci gudang batita gram vanila susu formula tu...</td>\n",
              "      <td>0</td>\n",
              "    </tr>\n",
              "    <tr>\n",
              "      <th>3</th>\n",
              "      <td>‼️CUCI GUDANG‼️ DATITA 3+ 900GRAM | TANPA DUS ...</td>\n",
              "      <td>Legal</td>\n",
              "      <td>https://shopee.co.id/‼️CUCI-GUDANG‼️-DATITA-3-...</td>\n",
              "      <td>cuci gudang datita gram dus madu susu formula ...</td>\n",
              "      <td>0</td>\n",
              "    </tr>\n",
              "    <tr>\n",
              "      <th>4</th>\n",
              "      <td>‼️CUCI GUDANG‼️ DATITA 3+ 900GRAM | VANILA | 3...</td>\n",
              "      <td>Legal</td>\n",
              "      <td>https://shopee.co.id/‼️CUCI-GUDANG‼️-DATITA-3-...</td>\n",
              "      <td>cuci gudang datita gram vanila susu formula tu...</td>\n",
              "      <td>0</td>\n",
              "    </tr>\n",
              "    <tr>\n",
              "      <th>...</th>\n",
              "      <td>...</td>\n",
              "      <td>...</td>\n",
              "      <td>...</td>\n",
              "      <td>...</td>\n",
              "      <td>...</td>\n",
              "    </tr>\n",
              "    <tr>\n",
              "      <th>2754</th>\n",
              "      <td>Ternak Syams - Premium Susu Kambing Etawa Kolo...</td>\n",
              "      <td>Ilegal</td>\n",
              "      <td>https://shopee.co.id/Ternak-Syams-Premium-Susu...</td>\n",
              "      <td>ternak syams premium susu kambing etawa kolost...</td>\n",
              "      <td>1</td>\n",
              "    </tr>\n",
              "    <tr>\n",
              "      <th>2755</th>\n",
              "      <td>Totole kaldu jamur 200 gram</td>\n",
              "      <td>Legal</td>\n",
              "      <td>https://shopee.co.id/Totole-kaldu-jamur-200-gr...</td>\n",
              "      <td>totole kaldu jamur gram</td>\n",
              "      <td>0</td>\n",
              "    </tr>\n",
              "    <tr>\n",
              "      <th>2756</th>\n",
              "      <td>Trieste Italian Syrup 650mL - Coffee Syrup : C...</td>\n",
              "      <td>Ilegal</td>\n",
              "      <td>https://shopee.co.id/Trieste-Italian-Syrup-650...</td>\n",
              "      <td>trieste italian syrup ml coffee syrup caramel ...</td>\n",
              "      <td>1</td>\n",
              "    </tr>\n",
              "    <tr>\n",
              "      <th>2757</th>\n",
              "      <td>Wilmond Mandarin Orange in Syrup 312gr - Buah ...</td>\n",
              "      <td>Legal</td>\n",
              "      <td>https://shopee.co.id/Wilmond-Mandarin-Orange-i...</td>\n",
              "      <td>wilmond mandarin orange in syrup gr buah jeruk...</td>\n",
              "      <td>0</td>\n",
              "    </tr>\n",
              "    <tr>\n",
              "      <th>2758</th>\n",
              "      <td>Yomas kornet ayam 1 kg isi 40</td>\n",
              "      <td>Legal</td>\n",
              "      <td>https://shopee.co.id/Yomas-kornet-ayam-1-kg-is...</td>\n",
              "      <td>yomas kornet ayam kg isi</td>\n",
              "      <td>0</td>\n",
              "    </tr>\n",
              "  </tbody>\n",
              "</table>\n",
              "<p>2759 rows × 5 columns</p>\n",
              "</div>\n",
              "    <div class=\"colab-df-buttons\">\n",
              "\n",
              "  <div class=\"colab-df-container\">\n",
              "    <button class=\"colab-df-convert\" onclick=\"convertToInteractive('df-c074d47e-581c-42f0-ad99-3f9a1b93a730')\"\n",
              "            title=\"Convert this dataframe to an interactive table.\"\n",
              "            style=\"display:none;\">\n",
              "\n",
              "  <svg xmlns=\"http://www.w3.org/2000/svg\" height=\"24px\" viewBox=\"0 -960 960 960\">\n",
              "    <path d=\"M120-120v-720h720v720H120Zm60-500h600v-160H180v160Zm220 220h160v-160H400v160Zm0 220h160v-160H400v160ZM180-400h160v-160H180v160Zm440 0h160v-160H620v160ZM180-180h160v-160H180v160Zm440 0h160v-160H620v160Z\"/>\n",
              "  </svg>\n",
              "    </button>\n",
              "\n",
              "  <style>\n",
              "    .colab-df-container {\n",
              "      display:flex;\n",
              "      gap: 12px;\n",
              "    }\n",
              "\n",
              "    .colab-df-convert {\n",
              "      background-color: #E8F0FE;\n",
              "      border: none;\n",
              "      border-radius: 50%;\n",
              "      cursor: pointer;\n",
              "      display: none;\n",
              "      fill: #1967D2;\n",
              "      height: 32px;\n",
              "      padding: 0 0 0 0;\n",
              "      width: 32px;\n",
              "    }\n",
              "\n",
              "    .colab-df-convert:hover {\n",
              "      background-color: #E2EBFA;\n",
              "      box-shadow: 0px 1px 2px rgba(60, 64, 67, 0.3), 0px 1px 3px 1px rgba(60, 64, 67, 0.15);\n",
              "      fill: #174EA6;\n",
              "    }\n",
              "\n",
              "    .colab-df-buttons div {\n",
              "      margin-bottom: 4px;\n",
              "    }\n",
              "\n",
              "    [theme=dark] .colab-df-convert {\n",
              "      background-color: #3B4455;\n",
              "      fill: #D2E3FC;\n",
              "    }\n",
              "\n",
              "    [theme=dark] .colab-df-convert:hover {\n",
              "      background-color: #434B5C;\n",
              "      box-shadow: 0px 1px 3px 1px rgba(0, 0, 0, 0.15);\n",
              "      filter: drop-shadow(0px 1px 2px rgba(0, 0, 0, 0.3));\n",
              "      fill: #FFFFFF;\n",
              "    }\n",
              "  </style>\n",
              "\n",
              "    <script>\n",
              "      const buttonEl =\n",
              "        document.querySelector('#df-c074d47e-581c-42f0-ad99-3f9a1b93a730 button.colab-df-convert');\n",
              "      buttonEl.style.display =\n",
              "        google.colab.kernel.accessAllowed ? 'block' : 'none';\n",
              "\n",
              "      async function convertToInteractive(key) {\n",
              "        const element = document.querySelector('#df-c074d47e-581c-42f0-ad99-3f9a1b93a730');\n",
              "        const dataTable =\n",
              "          await google.colab.kernel.invokeFunction('convertToInteractive',\n",
              "                                                    [key], {});\n",
              "        if (!dataTable) return;\n",
              "\n",
              "        const docLinkHtml = 'Like what you see? Visit the ' +\n",
              "          '<a target=\"_blank\" href=https://colab.research.google.com/notebooks/data_table.ipynb>data table notebook</a>'\n",
              "          + ' to learn more about interactive tables.';\n",
              "        element.innerHTML = '';\n",
              "        dataTable['output_type'] = 'display_data';\n",
              "        await google.colab.output.renderOutput(dataTable, element);\n",
              "        const docLink = document.createElement('div');\n",
              "        docLink.innerHTML = docLinkHtml;\n",
              "        element.appendChild(docLink);\n",
              "      }\n",
              "    </script>\n",
              "  </div>\n",
              "\n",
              "\n",
              "<div id=\"df-92a23337-5595-4e09-a0e7-61ddc43bfed0\">\n",
              "  <button class=\"colab-df-quickchart\" onclick=\"quickchart('df-92a23337-5595-4e09-a0e7-61ddc43bfed0')\"\n",
              "            title=\"Suggest charts\"\n",
              "            style=\"display:none;\">\n",
              "\n",
              "<svg xmlns=\"http://www.w3.org/2000/svg\" height=\"24px\"viewBox=\"0 0 24 24\"\n",
              "     width=\"24px\">\n",
              "    <g>\n",
              "        <path d=\"M19 3H5c-1.1 0-2 .9-2 2v14c0 1.1.9 2 2 2h14c1.1 0 2-.9 2-2V5c0-1.1-.9-2-2-2zM9 17H7v-7h2v7zm4 0h-2V7h2v10zm4 0h-2v-4h2v4z\"/>\n",
              "    </g>\n",
              "</svg>\n",
              "  </button>\n",
              "\n",
              "<style>\n",
              "  .colab-df-quickchart {\n",
              "      --bg-color: #E8F0FE;\n",
              "      --fill-color: #1967D2;\n",
              "      --hover-bg-color: #E2EBFA;\n",
              "      --hover-fill-color: #174EA6;\n",
              "      --disabled-fill-color: #AAA;\n",
              "      --disabled-bg-color: #DDD;\n",
              "  }\n",
              "\n",
              "  [theme=dark] .colab-df-quickchart {\n",
              "      --bg-color: #3B4455;\n",
              "      --fill-color: #D2E3FC;\n",
              "      --hover-bg-color: #434B5C;\n",
              "      --hover-fill-color: #FFFFFF;\n",
              "      --disabled-bg-color: #3B4455;\n",
              "      --disabled-fill-color: #666;\n",
              "  }\n",
              "\n",
              "  .colab-df-quickchart {\n",
              "    background-color: var(--bg-color);\n",
              "    border: none;\n",
              "    border-radius: 50%;\n",
              "    cursor: pointer;\n",
              "    display: none;\n",
              "    fill: var(--fill-color);\n",
              "    height: 32px;\n",
              "    padding: 0;\n",
              "    width: 32px;\n",
              "  }\n",
              "\n",
              "  .colab-df-quickchart:hover {\n",
              "    background-color: var(--hover-bg-color);\n",
              "    box-shadow: 0 1px 2px rgba(60, 64, 67, 0.3), 0 1px 3px 1px rgba(60, 64, 67, 0.15);\n",
              "    fill: var(--button-hover-fill-color);\n",
              "  }\n",
              "\n",
              "  .colab-df-quickchart-complete:disabled,\n",
              "  .colab-df-quickchart-complete:disabled:hover {\n",
              "    background-color: var(--disabled-bg-color);\n",
              "    fill: var(--disabled-fill-color);\n",
              "    box-shadow: none;\n",
              "  }\n",
              "\n",
              "  .colab-df-spinner {\n",
              "    border: 2px solid var(--fill-color);\n",
              "    border-color: transparent;\n",
              "    border-bottom-color: var(--fill-color);\n",
              "    animation:\n",
              "      spin 1s steps(1) infinite;\n",
              "  }\n",
              "\n",
              "  @keyframes spin {\n",
              "    0% {\n",
              "      border-color: transparent;\n",
              "      border-bottom-color: var(--fill-color);\n",
              "      border-left-color: var(--fill-color);\n",
              "    }\n",
              "    20% {\n",
              "      border-color: transparent;\n",
              "      border-left-color: var(--fill-color);\n",
              "      border-top-color: var(--fill-color);\n",
              "    }\n",
              "    30% {\n",
              "      border-color: transparent;\n",
              "      border-left-color: var(--fill-color);\n",
              "      border-top-color: var(--fill-color);\n",
              "      border-right-color: var(--fill-color);\n",
              "    }\n",
              "    40% {\n",
              "      border-color: transparent;\n",
              "      border-right-color: var(--fill-color);\n",
              "      border-top-color: var(--fill-color);\n",
              "    }\n",
              "    60% {\n",
              "      border-color: transparent;\n",
              "      border-right-color: var(--fill-color);\n",
              "    }\n",
              "    80% {\n",
              "      border-color: transparent;\n",
              "      border-right-color: var(--fill-color);\n",
              "      border-bottom-color: var(--fill-color);\n",
              "    }\n",
              "    90% {\n",
              "      border-color: transparent;\n",
              "      border-bottom-color: var(--fill-color);\n",
              "    }\n",
              "  }\n",
              "</style>\n",
              "\n",
              "  <script>\n",
              "    async function quickchart(key) {\n",
              "      const quickchartButtonEl =\n",
              "        document.querySelector('#' + key + ' button');\n",
              "      quickchartButtonEl.disabled = true;  // To prevent multiple clicks.\n",
              "      quickchartButtonEl.classList.add('colab-df-spinner');\n",
              "      try {\n",
              "        const charts = await google.colab.kernel.invokeFunction(\n",
              "            'suggestCharts', [key], {});\n",
              "      } catch (error) {\n",
              "        console.error('Error during call to suggestCharts:', error);\n",
              "      }\n",
              "      quickchartButtonEl.classList.remove('colab-df-spinner');\n",
              "      quickchartButtonEl.classList.add('colab-df-quickchart-complete');\n",
              "    }\n",
              "    (() => {\n",
              "      let quickchartButtonEl =\n",
              "        document.querySelector('#df-92a23337-5595-4e09-a0e7-61ddc43bfed0 button');\n",
              "      quickchartButtonEl.style.display =\n",
              "        google.colab.kernel.accessAllowed ? 'block' : 'none';\n",
              "    })();\n",
              "  </script>\n",
              "</div>\n",
              "    </div>\n",
              "  </div>\n"
            ],
            "application/vnd.google.colaboratory.intrinsic+json": {
              "type": "dataframe",
              "variable_name": "df",
              "summary": "{\n  \"name\": \"df\",\n  \"rows\": 2759,\n  \"fields\": [\n    {\n      \"column\": \"title\",\n      \"properties\": {\n        \"dtype\": \"string\",\n        \"num_unique_values\": 2537,\n        \"samples\": [\n          \"Pangpang Pedas Manis 1Kg Murah Enak Renyah / Pang Pang Kiloan/ Pangpang Manis Kiloan\",\n          \"1kg keripik usus ayam jaya makmur 2 snack\",\n          \"BIR PLETOK / BANDREK / MINUMAN JAHE MERAH INSTAN MURAH\"\n        ],\n        \"semantic_type\": \"\",\n        \"description\": \"\"\n      }\n    },\n    {\n      \"column\": \"label\",\n      \"properties\": {\n        \"dtype\": \"category\",\n        \"num_unique_values\": 2,\n        \"samples\": [\n          \"Ilegal\",\n          \"Legal\"\n        ],\n        \"semantic_type\": \"\",\n        \"description\": \"\"\n      }\n    },\n    {\n      \"column\": \"link\",\n      \"properties\": {\n        \"dtype\": \"string\",\n        \"num_unique_values\": 2759,\n        \"samples\": [\n          \"https://shopee.co.id/Bakso-Goreng-Iris-(Basreng)-murah-kiloan-kg-i.468014622.21856999715?sp_atk=17465b6e-7bf2-4ef5-ad86-2baa79e9270f&xptdk=17465b6e-7bf2-4ef5-ad86-2baa79e9270f\",\n          \"https://shopee.co.id/Lactogen-Premature-LBW-400-g-i.190409597.18086480170?sp_atk=7d56eb43-3433-4264-9571-00ab215c6571&xptdk=7d56eb43-3433-4264-9571-00ab215c6571\"\n        ],\n        \"semantic_type\": \"\",\n        \"description\": \"\"\n      }\n    },\n    {\n      \"column\": \"preprocessed_text\",\n      \"properties\": {\n        \"dtype\": \"string\",\n        \"num_unique_values\": 2410,\n        \"samples\": [\n          \"taro snack cemilan kilo original kirim expired jamin aman\",\n          \"vibe whisky ml\"\n        ],\n        \"semantic_type\": \"\",\n        \"description\": \"\"\n      }\n    },\n    {\n      \"column\": \"label_pred\",\n      \"properties\": {\n        \"dtype\": \"number\",\n        \"std\": 0,\n        \"min\": 0,\n        \"max\": 1,\n        \"num_unique_values\": 2,\n        \"samples\": [\n          1,\n          0\n        ],\n        \"semantic_type\": \"\",\n        \"description\": \"\"\n      }\n    }\n  ]\n}"
            }
          },
          "metadata": {},
          "execution_count": 65
        }
      ]
    },
    {
      "cell_type": "code",
      "source": [
        "df['label'].value_counts()"
      ],
      "metadata": {
        "colab": {
          "base_uri": "https://localhost:8080/"
        },
        "id": "YzQmSxA5TiuU",
        "outputId": "f2f60b8e-90f0-406c-a0cc-2e2c0315be27"
      },
      "execution_count": 66,
      "outputs": [
        {
          "output_type": "execute_result",
          "data": {
            "text/plain": [
              "label\n",
              "Ilegal    1452\n",
              "Legal     1307\n",
              "Name: count, dtype: int64"
            ]
          },
          "metadata": {},
          "execution_count": 66
        }
      ]
    },
    {
      "cell_type": "code",
      "source": [
        "pipeline.steps"
      ],
      "metadata": {
        "colab": {
          "base_uri": "https://localhost:8080/"
        },
        "id": "5UGxzYB1XCMG",
        "outputId": "cfc7c4cb-26dd-4f4f-da65-46194bededb3"
      },
      "execution_count": 67,
      "outputs": [
        {
          "output_type": "execute_result",
          "data": {
            "text/plain": [
              "[('preprocess',\n",
              "  FunctionTransformer(func=<function preprocess_text_series at 0x79083ab58f70>)),\n",
              " ('tfidf', TfidfVectorizer()),\n",
              " ('rf', RandomForestClassifier())]"
            ]
          },
          "metadata": {},
          "execution_count": 67
        }
      ]
    },
    {
      "cell_type": "code",
      "source": [
        "import pickle"
      ],
      "metadata": {
        "id": "Hi-Bq54uXHK1"
      },
      "execution_count": 68,
      "outputs": []
    },
    {
      "cell_type": "code",
      "source": [
        "for step_name, step_obj in pipeline.steps:\n",
        "    with open(f'{step_name}.pkl', 'wb') as f:\n",
        "        pickle.dump(step_obj, f)"
      ],
      "metadata": {
        "id": "Kt_cR10NWqst"
      },
      "execution_count": 69,
      "outputs": []
    },
    {
      "cell_type": "code",
      "source": [
        "from joblib import dump, load\n",
        "dump(pipeline, 'pipeline.joblib')\n",
        "loaded_pipeline = load('pipeline.joblib')"
      ],
      "metadata": {
        "id": "DW0lls8CXJSd"
      },
      "execution_count": 70,
      "outputs": []
    },
    {
      "cell_type": "code",
      "source": [
        "loaded_pipeline"
      ],
      "metadata": {
        "colab": {
          "base_uri": "https://localhost:8080/",
          "height": 230
        },
        "id": "KWSZNxStYQMr",
        "outputId": "10b8af0e-11d7-458b-b058-4bbbe9653959"
      },
      "execution_count": 71,
      "outputs": [
        {
          "output_type": "execute_result",
          "data": {
            "text/plain": [
              "Pipeline(steps=[('preprocess',\n",
              "                 FunctionTransformer(func=<function preprocess_text_series at 0x79083ab58f70>)),\n",
              "                ('tfidf', TfidfVectorizer()),\n",
              "                ('rf', RandomForestClassifier())])"
            ],
            "text/html": [
              "<style>#sk-container-id-3 {color: black;background-color: white;}#sk-container-id-3 pre{padding: 0;}#sk-container-id-3 div.sk-toggleable {background-color: white;}#sk-container-id-3 label.sk-toggleable__label {cursor: pointer;display: block;width: 100%;margin-bottom: 0;padding: 0.3em;box-sizing: border-box;text-align: center;}#sk-container-id-3 label.sk-toggleable__label-arrow:before {content: \"▸\";float: left;margin-right: 0.25em;color: #696969;}#sk-container-id-3 label.sk-toggleable__label-arrow:hover:before {color: black;}#sk-container-id-3 div.sk-estimator:hover label.sk-toggleable__label-arrow:before {color: black;}#sk-container-id-3 div.sk-toggleable__content {max-height: 0;max-width: 0;overflow: hidden;text-align: left;background-color: #f0f8ff;}#sk-container-id-3 div.sk-toggleable__content pre {margin: 0.2em;color: black;border-radius: 0.25em;background-color: #f0f8ff;}#sk-container-id-3 input.sk-toggleable__control:checked~div.sk-toggleable__content {max-height: 200px;max-width: 100%;overflow: auto;}#sk-container-id-3 input.sk-toggleable__control:checked~label.sk-toggleable__label-arrow:before {content: \"▾\";}#sk-container-id-3 div.sk-estimator input.sk-toggleable__control:checked~label.sk-toggleable__label {background-color: #d4ebff;}#sk-container-id-3 div.sk-label input.sk-toggleable__control:checked~label.sk-toggleable__label {background-color: #d4ebff;}#sk-container-id-3 input.sk-hidden--visually {border: 0;clip: rect(1px 1px 1px 1px);clip: rect(1px, 1px, 1px, 1px);height: 1px;margin: -1px;overflow: hidden;padding: 0;position: absolute;width: 1px;}#sk-container-id-3 div.sk-estimator {font-family: monospace;background-color: #f0f8ff;border: 1px dotted black;border-radius: 0.25em;box-sizing: border-box;margin-bottom: 0.5em;}#sk-container-id-3 div.sk-estimator:hover {background-color: #d4ebff;}#sk-container-id-3 div.sk-parallel-item::after {content: \"\";width: 100%;border-bottom: 1px solid gray;flex-grow: 1;}#sk-container-id-3 div.sk-label:hover label.sk-toggleable__label {background-color: #d4ebff;}#sk-container-id-3 div.sk-serial::before {content: \"\";position: absolute;border-left: 1px solid gray;box-sizing: border-box;top: 0;bottom: 0;left: 50%;z-index: 0;}#sk-container-id-3 div.sk-serial {display: flex;flex-direction: column;align-items: center;background-color: white;padding-right: 0.2em;padding-left: 0.2em;position: relative;}#sk-container-id-3 div.sk-item {position: relative;z-index: 1;}#sk-container-id-3 div.sk-parallel {display: flex;align-items: stretch;justify-content: center;background-color: white;position: relative;}#sk-container-id-3 div.sk-item::before, #sk-container-id-3 div.sk-parallel-item::before {content: \"\";position: absolute;border-left: 1px solid gray;box-sizing: border-box;top: 0;bottom: 0;left: 50%;z-index: -1;}#sk-container-id-3 div.sk-parallel-item {display: flex;flex-direction: column;z-index: 1;position: relative;background-color: white;}#sk-container-id-3 div.sk-parallel-item:first-child::after {align-self: flex-end;width: 50%;}#sk-container-id-3 div.sk-parallel-item:last-child::after {align-self: flex-start;width: 50%;}#sk-container-id-3 div.sk-parallel-item:only-child::after {width: 0;}#sk-container-id-3 div.sk-dashed-wrapped {border: 1px dashed gray;margin: 0 0.4em 0.5em 0.4em;box-sizing: border-box;padding-bottom: 0.4em;background-color: white;}#sk-container-id-3 div.sk-label label {font-family: monospace;font-weight: bold;display: inline-block;line-height: 1.2em;}#sk-container-id-3 div.sk-label-container {text-align: center;}#sk-container-id-3 div.sk-container {/* jupyter's `normalize.less` sets `[hidden] { display: none; }` but bootstrap.min.css set `[hidden] { display: none !important; }` so we also need the `!important` here to be able to override the default hidden behavior on the sphinx rendered scikit-learn.org. See: https://github.com/scikit-learn/scikit-learn/issues/21755 */display: inline-block !important;position: relative;}#sk-container-id-3 div.sk-text-repr-fallback {display: none;}</style><div id=\"sk-container-id-3\" class=\"sk-top-container\"><div class=\"sk-text-repr-fallback\"><pre>Pipeline(steps=[(&#x27;preprocess&#x27;,\n",
              "                 FunctionTransformer(func=&lt;function preprocess_text_series at 0x79083ab58f70&gt;)),\n",
              "                (&#x27;tfidf&#x27;, TfidfVectorizer()),\n",
              "                (&#x27;rf&#x27;, RandomForestClassifier())])</pre><b>In a Jupyter environment, please rerun this cell to show the HTML representation or trust the notebook. <br />On GitHub, the HTML representation is unable to render, please try loading this page with nbviewer.org.</b></div><div class=\"sk-container\" hidden><div class=\"sk-item sk-dashed-wrapped\"><div class=\"sk-label-container\"><div class=\"sk-label sk-toggleable\"><input class=\"sk-toggleable__control sk-hidden--visually\" id=\"sk-estimator-id-3\" type=\"checkbox\" ><label for=\"sk-estimator-id-3\" class=\"sk-toggleable__label sk-toggleable__label-arrow\">Pipeline</label><div class=\"sk-toggleable__content\"><pre>Pipeline(steps=[(&#x27;preprocess&#x27;,\n",
              "                 FunctionTransformer(func=&lt;function preprocess_text_series at 0x79083ab58f70&gt;)),\n",
              "                (&#x27;tfidf&#x27;, TfidfVectorizer()),\n",
              "                (&#x27;rf&#x27;, RandomForestClassifier())])</pre></div></div></div><div class=\"sk-serial\"><div class=\"sk-item\"><div class=\"sk-estimator sk-toggleable\"><input class=\"sk-toggleable__control sk-hidden--visually\" id=\"sk-estimator-id-4\" type=\"checkbox\" ><label for=\"sk-estimator-id-4\" class=\"sk-toggleable__label sk-toggleable__label-arrow\">FunctionTransformer</label><div class=\"sk-toggleable__content\"><pre>FunctionTransformer(func=&lt;function preprocess_text_series at 0x79083ab58f70&gt;)</pre></div></div></div><div class=\"sk-item\"><div class=\"sk-estimator sk-toggleable\"><input class=\"sk-toggleable__control sk-hidden--visually\" id=\"sk-estimator-id-5\" type=\"checkbox\" ><label for=\"sk-estimator-id-5\" class=\"sk-toggleable__label sk-toggleable__label-arrow\">TfidfVectorizer</label><div class=\"sk-toggleable__content\"><pre>TfidfVectorizer()</pre></div></div></div><div class=\"sk-item\"><div class=\"sk-estimator sk-toggleable\"><input class=\"sk-toggleable__control sk-hidden--visually\" id=\"sk-estimator-id-6\" type=\"checkbox\" ><label for=\"sk-estimator-id-6\" class=\"sk-toggleable__label sk-toggleable__label-arrow\">RandomForestClassifier</label><div class=\"sk-toggleable__content\"><pre>RandomForestClassifier()</pre></div></div></div></div></div></div></div>"
            ]
          },
          "metadata": {},
          "execution_count": 71
        }
      ]
    },
    {
      "cell_type": "code",
      "source": [
        "pr = loaded_pipeline.named_steps['preprocess'].transform(df_dummy['title'])"
      ],
      "metadata": {
        "id": "CKk8GaUcYRLy"
      },
      "execution_count": 72,
      "outputs": []
    },
    {
      "cell_type": "code",
      "source": [
        "pr"
      ],
      "metadata": {
        "colab": {
          "base_uri": "https://localhost:8080/"
        },
        "id": "wzW8pyXSYsAA",
        "outputId": "e5dbda1d-3be9-417e-b1ce-9928942675f6"
      },
      "execution_count": 73,
      "outputs": [
        {
          "output_type": "execute_result",
          "data": {
            "text/plain": [
              "0                     beras organik\n",
              "1               minyak kelapa murni\n",
              "2                ikan tongkol segar\n",
              "3     dendeng sapi kualitas premium\n",
              "4                  pilih keju lokal\n",
              "5       truffle cokelat handcrafted\n",
              "6                telur ayam kampung\n",
              "7                     sayur organik\n",
              "8          bumbu nasi goreng instan\n",
              "9               garam laut himalaya\n",
              "10                       madu murni\n",
              "11              jamur organik pilih\n",
              "12              roti gandum organik\n",
              "13               telur ayam organik\n",
              "14                  jus hijau segar\n",
              "15                   protein nabati\n",
              "16                     granola biji\n",
              "17                 madu lokal pilih\n",
              "18        sirup mapel kualitas baik\n",
              "19                  pasta artisanal\n",
              "Name: title, dtype: object"
            ]
          },
          "metadata": {},
          "execution_count": 73
        }
      ]
    },
    {
      "cell_type": "code",
      "source": [],
      "metadata": {
        "id": "udEGLW1eYsgH"
      },
      "execution_count": null,
      "outputs": []
    }
  ]
}